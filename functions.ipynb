{
 "cells": [
  {
   "cell_type": "markdown",
   "metadata": {},
   "source": [
    "### Functions "
   ]
  },
  {
   "cell_type": "code",
   "execution_count": null,
   "metadata": {},
   "outputs": [],
   "source": [
    "# write a function to evaluate highest level competed and sort into FEI, USEF, and Young Horse groups\n",
    "def level_sort(level):\n",
    "     if level in fei:\n",
    "          return 'FEI'\n",
    "     elif level in usef:\n",
    "        return 'USEF'\n",
    "     elif level in yh:\n",
    "         return 'Young Horse'"
   ]
  },
  {
   "cell_type": "code",
   "execution_count": null,
   "metadata": {},
   "outputs": [],
   "source": [
    "# write a function to evaluate if placing is top ten or not\n",
    "def get_top_ten(placing):\n",
    "    if placing <= 10:\n",
    "        return 'Top Ten'\n",
    "    else:\n",
    "        return '11 and Under'"
   ]
  },
  {
   "cell_type": "code",
   "execution_count": null,
   "metadata": {},
   "outputs": [],
   "source": [
    "# write a function to evaluate if score is equal to/over 7.45 or not\n",
    "def check_score(score):\n",
    "    if score >= 7.45:\n",
    "        return '7.45 or Over'\n",
    "    else:\n",
    "        return 'Under 7.45'\n"
   ]
  },
  {
   "cell_type": "code",
   "execution_count": null,
   "metadata": {},
   "outputs": [],
   "source": [
    "def fei_or_no(levels):\n",
    "    if levels in fei:\n",
    "        return 'Yes'\n",
    "    else:\n",
    "        return 'No'"
   ]
  },
  {
   "cell_type": "code",
   "execution_count": 2,
   "metadata": {},
   "outputs": [],
   "source": [
    "# write a function to evaluate if placing the horse competed at GP or not\n",
    "def gp_or_no(level):\n",
    "    if level == 'Grand Prix':\n",
    "        return 'Yes'\n",
    "    else:\n",
    "        return 'No'"
   ]
  },
  {
   "cell_type": "code",
   "execution_count": null,
   "metadata": {},
   "outputs": [],
   "source": [
    "def get_top_three(placing):\n",
    "    if placing <= 3:\n",
    "        return 'Yes'\n",
    "    else:\n",
    "        return 'No'"
   ]
  },
  {
   "cell_type": "code",
   "execution_count": 3,
   "metadata": {},
   "outputs": [],
   "source": [
    "# write a function to evaluate if score is equal to/over 65.9 or not\n",
    "def dh_check_score(score):\n",
    "    if score >= 65.9:\n",
    "        return '65.9% or Over'\n",
    "    else:\n",
    "        return 'Under 65.9%'\n"
   ]
  }
 ],
 "metadata": {
  "kernelspec": {
   "display_name": "dev",
   "language": "python",
   "name": "python3"
  },
  "language_info": {
   "codemirror_mode": {
    "name": "ipython",
    "version": 3
   },
   "file_extension": ".py",
   "mimetype": "text/x-python",
   "name": "python",
   "nbconvert_exporter": "python",
   "pygments_lexer": "ipython3",
   "version": "3.10.11"
  }
 },
 "nbformat": 4,
 "nbformat_minor": 2
}
