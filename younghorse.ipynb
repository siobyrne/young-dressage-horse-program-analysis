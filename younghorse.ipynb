{
 "cells": [
  {
   "cell_type": "markdown",
   "metadata": {},
   "source": [
    "# Markel/USEF Young and Developing Dressage Horse Championship Data Analysis\n",
    "\n",
    "## Introduction\n",
    "The aim of this project is to analyze data from the USEF Young and Developing Horse programs over the years. The program can be divisive—some claim that horses that participate in these programs end up washing out, or that many do not make it to the FEI levels. Since these programs have now been in place for over 20 years, there is a significant amount of data available to look at regarding the competitive careers of horses involved in these programs.\n",
    "\n",
    "## Data Acquisition and Cleaning\n",
    "The current format of the competition for all divisions (4/5/6/7 Year Old, Developing Prix St. Georges, and Developing Grand Prix) involves two rounds, with round one counting for 40% of the overall score, and round two counting for 60% of the overall score. Overall scores determine the final placings. \n",
    "\n",
    "To further complicate matters, early years of this program invited more horses to participate, and held both Final and Consolation Final rounds. To simplify this analysis, I did not include any Consolation Final results. \n",
    "\n",
    "For more recent years of the competition (2021-2023), the competition software system Equestrian Hub (www.equestrian-hub.com) has automatically calculated these placings, which made it easy to obtain the data. For prior years, varying levels of detective work were required. I was able to find official overall placing records for some years on the United States Equestrian Federation (USEF) website, but not all were available. For the years that had only the scores from each class available, I wrote a small program in Python to take each individual round of scores, and calculate the overall score using the 40/60 formula. While I have endeavored to do this without error, the lack of official overall rankings to compare to means that there may be errors involved as to exact overall placings of some horses. If you come across an error, please contact me at (byrne.sio@gmail.com) and I will make the correction.\n",
    "\n",
    "Next, I looked up each horse in the United States Dressage Federation (USDF) database, to determine a) what is the highest level to which this horse competed?,  and b) did this horse ever compete at the CDI (international) level? For a), I did not consider scores received—I was only concerned if that horse had a test on its record at that level. Therefore, this analysis does not differentiate between high and low scoring horses at any level. For b), I only considered horses to be CDI competitors if they had competed at a CDI at a level OTHER THAN FEI Young Horse tests. \n",
    "\n",
    "I had the most difficulty acquiring the data on bloodlines and breeders, ironically. Because so many people fail to include this information on entry forms, lots of the data was incomplete. USEF does have a horse search function on their website, but they only list sire and dam (no damsire), and frequently the breeder and country of birth are left out. Finding this information required a lot of detective work in some cases, frequently utilizing Horse Telex (www.horsetelex.com), a pedigree database. I also utilized old Eurodressage and DressageDaily articles about various years of the championships. \n",
    "\n",
    "## Analysis Overview\n",
    "\n",
    "For the analysis of competitve careers of participants, I am focusing on the years 2002-2019. Horses that competed in the USEF 4 Year Old division in 2019 would be 8 in 2023, and 8 is the youngest age a horse can compete at the highest of the FEI levels, Grand Prix. While it is rare to see a horse competing at that level at that age, it is legal, so I went with the lowest legal age versus the most common (9-10 years old).\n",
    "\n",
    "The analysis of bloodlines and other breeding data will look at all years of the program (2002-2023). \n",
    "\n",
    "### 2002 - 2019, 4/5/6 Year Old Division Competitive Outcomes\n",
    "\n",
    "#### FEI vs Non-FEI Horses\n",
    "Do horses that compete in the 4, 5, and 6 Year Old divisions make it to FEI? \n",
    "\n",
    "To answer this question, I looked only at horses that competed in the 4/5/6 Year Old divisions during the years 2002-2019, 520 horses total.\n",
    "\n",
    "The overwhelming majority made it to FEI (69.81%). 21.54% competed at the USEF levels (Training-Fourth). Only 45 horses (8.65%) never competed at any level other than a Young Horse division. \n",
    "\n",
    "#### CDI vs Non-CDI Horses\n",
    "Unsurprisingly, most horses (67.50%) never competed in a CDI (international competition). Most horses, even if they make it to FEI, would not necessarily be competitive on the CDI level. CDI competitions are also much more expensive and complicated to enter and compete in (higher entry fees, horses must have an FEI passport). Finally, there are simply not that many CDI competitions in the USA, and the ones there are tend to be concentrated in certain areas, requiring long travel times for people in many parts of the country. \n",
    "\n",
    "#### Top Ten vs Bottom Ten Placing Horses\n",
    "Are horses placing in the top ten vs bottom ten more likely to make it to FEI? Yes. 77.13% of horses that made it to the FEI levels placed in the top ten of their division at the championships. \n",
    "\n",
    "This finding may be influenced by the years this project is analyzing. In the early years of this program, there were frequently 10 or fewer horses in some divisions. \n",
    "\n",
    "### 2002 - 2023, All Divisions (4/5/6/7 Year Old, Developing Prix St. Georges, Developing Grand Prix)\n",
    "\n",
    "#### Highest Level Shown, USA Bred vs All Other Countries\n",
    "At the lower levels, there is a fairly balanced split between horses bred in the USA, and those bred in other countries. However, at the FEI levels, most horses are foreign-bred, with the most noticable difference being at the Grand Prix level (80 American-bred, 168 foreign-bred). There are likely many reasons for this:\n",
    "\n",
    "* Many people shop for horses in Europe because it is easier to see many horses in one location vs the USA\n",
    "* Depending on the exchange rate, it may be advantageous cost-wise to buy from other countries, as breeders in the USA face much higher costs to produce and raise foals\n",
    "* European countries produce far more warmblood foals than the USA\n",
    "* Bias against American breeders—some may think American-bred foals aren't as good as those produced in Europe\n",
    "* Hard to get top American-bred foals into the hands of riders that can develop them to Grand Prix\n",
    "* USA lacks a well-developed pipeline from foal to young horse to FEI\n",
    "* More young horse specialists in Europe makes it easier for buyers who may not have access to a good young horse specialist in their part of the USA\n",
    "\n",
    "\n",
    "#### Top Ten Sires Represented\n",
    "The stallion with the most offspring competing (2002 to 2023, all divisions) was Sandro Hit (24). The rest of the top ten were Sir Donnerhall I (18), Furstenball (17), Jazz (13), Rotspon (12), Fidertanz (12), Florestan I (11), Hotline (10), Grand Galaxy Win (9), Florencio I (9), and Sir Sinclair (9). The three-way tie for ninth place in the top ten means there are actually eleven horses in this category.\n",
    "\n",
    "#### Top Ten Damsires Represented\n",
    "The damsire with the most offspring competing (2002 to 2023, all divisions) was Rubinstein (25). The rest of the top ten were De Niro (18), Sandro Hit (17), Jazz (16), Rotspon (16), Weltmeyer (14), Ferro (13), Krack C (11), Sir Donnerhall I (11), and Rohdiamant (11). \n",
    "\n",
    "Frustratingly, this column had the second most null values of all the columns (18 missing values / 3.5% of the total)—I hope to resolve this in future iterations of this project.\n",
    "\n",
    "#### Top Ten Sires of Grand Prix Horses\n",
    "The top sire of Grand Prix horses (2002-2023, all divisions) was also Sandro Hit (12). The rest of the top ten were Jazz (8), Sir Donnerhall I (7), Florestan I (5), Florencio I (5), Rotspon (4), Fidertanz (4), Sir Sinclair (3), Hotline (3), and Furstenball (3). \n",
    "\n",
    "#### Top Ten Damsires of Grand Prix Horses\n",
    "The top damsire of Grand Prix horses was De Niro (7). The rest of the top ten were Rubinstein (6), Rotspon (6), Ferro (5), Weltmeyer (4), Rohdiamant (4), Jazz (4), Sandro Hit (3), Sir Donnerhall (1), and Krack C (1). \n",
    "\n",
    "Once again, the prevalence of null values (just over 7% of the data) in the damsire column affects the completeness of this data. \n",
    "\n",
    "#### Top Ten Breeders Represented \n",
    "The most prominent breeder over all years and divions is DG Bar Ranch (USA), with 16 horses. The rest of the top ten were Maryanna Haymon (USA, 12 horses), Nancy Holowesko (USA, 9 horses), Leatherdale Farms (USA, 7 horses), Oak Hill Ranch (USA, 6 horses), Judy Yancey (USA, 6 horses), Horses Unlimited (USA, 6 horses), Gestut Lewitz (Germany, 6 horses), Maurine Swanson (USA, 5 horses), and Jackie Ahl-Eckhaus (USA, 5 horses). \n",
    "\n",
    "This column had the most null values overall—47 missing values, which equates to 9% of the total. \n",
    "\n",
    "#### Most Championship Appearances\n",
    "The horse with the most appearances at the Young and Developing Horse Championships to date is WakeUp, ridden by Emily Miles. WakeUp competed in the Four and Six Year Old Championships as a young horse, and also competed two years each in the Developing Prix St. Georges and Developing Grand Prix divisions. \n",
    "\n",
    "## Acknowledgements\n",
    "The following sites were utilized to gather this data:\n",
    "\n",
    "* USDF (www.usdf.org)\n",
    "* USEF (www.usef.org)\n",
    "* Equestrian Hub (www.equestrian-hub.com)\n",
    "* Fox Village (www.foxvillage.com)\n",
    "* Horse Telex (www.horsetelex.com)\n",
    "* Eurodressage (www.eurodressage.com)\n",
    "* DressageDaily (www.dressagedaily.com)\n",
    "\n"
   ]
  },
  {
   "cell_type": "code",
   "execution_count": 300,
   "metadata": {},
   "outputs": [],
   "source": [
    "import pandas as pd\n",
    "import numpy as np"
   ]
  },
  {
   "cell_type": "code",
   "execution_count": 301,
   "metadata": {},
   "outputs": [
    {
     "data": {
      "text/html": [
       "<div>\n",
       "<style scoped>\n",
       "    .dataframe tbody tr th:only-of-type {\n",
       "        vertical-align: middle;\n",
       "    }\n",
       "\n",
       "    .dataframe tbody tr th {\n",
       "        vertical-align: top;\n",
       "    }\n",
       "\n",
       "    .dataframe thead th {\n",
       "        text-align: right;\n",
       "    }\n",
       "</style>\n",
       "<table border=\"1\" class=\"dataframe\">\n",
       "  <thead>\n",
       "    <tr style=\"text-align: right;\">\n",
       "      <th></th>\n",
       "      <th>Year</th>\n",
       "      <th>Division</th>\n",
       "      <th>Horse</th>\n",
       "      <th>OverallPlacing</th>\n",
       "      <th>HighestLevel</th>\n",
       "      <th>CDI</th>\n",
       "      <th>USDFNumber</th>\n",
       "      <th>OverallScore</th>\n",
       "    </tr>\n",
       "  </thead>\n",
       "  <tbody>\n",
       "    <tr>\n",
       "      <th>0</th>\n",
       "      <td>2002</td>\n",
       "      <td>FEI5</td>\n",
       "      <td>Rosabella</td>\n",
       "      <td>1</td>\n",
       "      <td>Third Level</td>\n",
       "      <td>No</td>\n",
       "      <td>37232</td>\n",
       "      <td>7.84</td>\n",
       "    </tr>\n",
       "    <tr>\n",
       "      <th>1</th>\n",
       "      <td>2002</td>\n",
       "      <td>FEI5</td>\n",
       "      <td>Favereux</td>\n",
       "      <td>2</td>\n",
       "      <td>Grand Prix</td>\n",
       "      <td>No</td>\n",
       "      <td>38714</td>\n",
       "      <td>7.68</td>\n",
       "    </tr>\n",
       "    <tr>\n",
       "      <th>2</th>\n",
       "      <td>2002</td>\n",
       "      <td>FEI5</td>\n",
       "      <td>Devon</td>\n",
       "      <td>3</td>\n",
       "      <td>Third Level</td>\n",
       "      <td>No</td>\n",
       "      <td>38984</td>\n",
       "      <td>7.42</td>\n",
       "    </tr>\n",
       "    <tr>\n",
       "      <th>3</th>\n",
       "      <td>2002</td>\n",
       "      <td>FEI5</td>\n",
       "      <td>Welfenstein</td>\n",
       "      <td>4</td>\n",
       "      <td>Grand Prix</td>\n",
       "      <td>Yes</td>\n",
       "      <td>40474</td>\n",
       "      <td>7.14</td>\n",
       "    </tr>\n",
       "    <tr>\n",
       "      <th>4</th>\n",
       "      <td>2002</td>\n",
       "      <td>FEI5</td>\n",
       "      <td>R-tistik</td>\n",
       "      <td>5</td>\n",
       "      <td>Grand Prix</td>\n",
       "      <td>Yes</td>\n",
       "      <td>37123</td>\n",
       "      <td>7.10</td>\n",
       "    </tr>\n",
       "    <tr>\n",
       "      <th>5</th>\n",
       "      <td>2002</td>\n",
       "      <td>FEI5</td>\n",
       "      <td>Pampero</td>\n",
       "      <td>6</td>\n",
       "      <td>FEI 5 Year Old</td>\n",
       "      <td>No</td>\n",
       "      <td>41386</td>\n",
       "      <td>6.82</td>\n",
       "    </tr>\n",
       "    <tr>\n",
       "      <th>6</th>\n",
       "      <td>2002</td>\n",
       "      <td>FEI6</td>\n",
       "      <td>Oleander</td>\n",
       "      <td>1</td>\n",
       "      <td>Grand Prix</td>\n",
       "      <td>Yes</td>\n",
       "      <td>35062</td>\n",
       "      <td>8.24</td>\n",
       "    </tr>\n",
       "    <tr>\n",
       "      <th>7</th>\n",
       "      <td>2002</td>\n",
       "      <td>FEI6</td>\n",
       "      <td>Freestyle</td>\n",
       "      <td>2</td>\n",
       "      <td>Prix St. Georges</td>\n",
       "      <td>No</td>\n",
       "      <td>39380</td>\n",
       "      <td>7.40</td>\n",
       "    </tr>\n",
       "    <tr>\n",
       "      <th>8</th>\n",
       "      <td>2002</td>\n",
       "      <td>FEI6</td>\n",
       "      <td>Wincenzo</td>\n",
       "      <td>3</td>\n",
       "      <td>Prix St. Georges</td>\n",
       "      <td>No</td>\n",
       "      <td>1026740</td>\n",
       "      <td>7.00</td>\n",
       "    </tr>\n",
       "    <tr>\n",
       "      <th>9</th>\n",
       "      <td>2002</td>\n",
       "      <td>FEI6</td>\n",
       "      <td>Olympus</td>\n",
       "      <td>4</td>\n",
       "      <td>Grand Prix</td>\n",
       "      <td>Yes</td>\n",
       "      <td>42683</td>\n",
       "      <td>6.86</td>\n",
       "    </tr>\n",
       "  </tbody>\n",
       "</table>\n",
       "</div>"
      ],
      "text/plain": [
       "   Year Division        Horse  OverallPlacing      HighestLevel  CDI  \\\n",
       "0  2002     FEI5    Rosabella               1       Third Level   No   \n",
       "1  2002     FEI5     Favereux               2        Grand Prix   No   \n",
       "2  2002     FEI5        Devon               3       Third Level   No   \n",
       "3  2002     FEI5  Welfenstein               4        Grand Prix  Yes   \n",
       "4  2002     FEI5     R-tistik               5        Grand Prix  Yes   \n",
       "5  2002     FEI5      Pampero               6    FEI 5 Year Old   No   \n",
       "6  2002     FEI6     Oleander               1        Grand Prix  Yes   \n",
       "7  2002     FEI6    Freestyle               2  Prix St. Georges   No   \n",
       "8  2002     FEI6     Wincenzo               3  Prix St. Georges   No   \n",
       "9  2002     FEI6      Olympus               4        Grand Prix  Yes   \n",
       "\n",
       "   USDFNumber  OverallScore  \n",
       "0       37232          7.84  \n",
       "1       38714          7.68  \n",
       "2       38984          7.42  \n",
       "3       40474          7.14  \n",
       "4       37123          7.10  \n",
       "5       41386          6.82  \n",
       "6       35062          8.24  \n",
       "7       39380          7.40  \n",
       "8     1026740          7.00  \n",
       "9       42683          6.86  "
      ]
     },
     "execution_count": 301,
     "metadata": {},
     "output_type": "execute_result"
    }
   ],
   "source": [
    "# load CSV of championship results into a dataframe and display first 10 records\n",
    "championship_df = pd.read_csv(\"resources/yh-championship-data.csv\")\n",
    "championship_df.head(10)"
   ]
  },
  {
   "cell_type": "code",
   "execution_count": 360,
   "metadata": {},
   "outputs": [
    {
     "data": {
      "text/html": [
       "<div>\n",
       "<style scoped>\n",
       "    .dataframe tbody tr th:only-of-type {\n",
       "        vertical-align: middle;\n",
       "    }\n",
       "\n",
       "    .dataframe tbody tr th {\n",
       "        vertical-align: top;\n",
       "    }\n",
       "\n",
       "    .dataframe thead th {\n",
       "        text-align: right;\n",
       "    }\n",
       "</style>\n",
       "<table border=\"1\" class=\"dataframe\">\n",
       "  <thead>\n",
       "    <tr style=\"text-align: right;\">\n",
       "      <th></th>\n",
       "      <th>Horse</th>\n",
       "      <th>HighestLevel</th>\n",
       "      <th>CDI</th>\n",
       "      <th>USDFNumber</th>\n",
       "      <th>Sire</th>\n",
       "      <th>Damsire</th>\n",
       "      <th>Country</th>\n",
       "      <th>Breeder</th>\n",
       "      <th>Studbook</th>\n",
       "    </tr>\n",
       "  </thead>\n",
       "  <tbody>\n",
       "    <tr>\n",
       "      <th>0</th>\n",
       "      <td>Rosabella</td>\n",
       "      <td>Third Level</td>\n",
       "      <td>No</td>\n",
       "      <td>37232</td>\n",
       "      <td>Rohdiamant</td>\n",
       "      <td>Watzmann</td>\n",
       "      <td>Germany</td>\n",
       "      <td>Kerstin Ohlemeyer</td>\n",
       "      <td>Hanoverian</td>\n",
       "    </tr>\n",
       "    <tr>\n",
       "      <th>1</th>\n",
       "      <td>Favereux</td>\n",
       "      <td>Grand Prix</td>\n",
       "      <td>No</td>\n",
       "      <td>38714</td>\n",
       "      <td>Fidermark</td>\n",
       "      <td>Fidelio</td>\n",
       "      <td>Germany</td>\n",
       "      <td>Johannes Hilgers</td>\n",
       "      <td>Rhinelander</td>\n",
       "    </tr>\n",
       "    <tr>\n",
       "      <th>2</th>\n",
       "      <td>Devon</td>\n",
       "      <td>Third Level</td>\n",
       "      <td>No</td>\n",
       "      <td>38984</td>\n",
       "      <td>Don Gregory</td>\n",
       "      <td>NaN</td>\n",
       "      <td>NaN</td>\n",
       "      <td>NaN</td>\n",
       "      <td>Oldenburg</td>\n",
       "    </tr>\n",
       "    <tr>\n",
       "      <th>3</th>\n",
       "      <td>Welfenstein</td>\n",
       "      <td>Grand Prix</td>\n",
       "      <td>Yes</td>\n",
       "      <td>40474</td>\n",
       "      <td>Wolkenstein II</td>\n",
       "      <td>Lauries Crusador xx</td>\n",
       "      <td>Germany</td>\n",
       "      <td>Heinz Bruns</td>\n",
       "      <td>Hanoverian</td>\n",
       "    </tr>\n",
       "    <tr>\n",
       "      <th>4</th>\n",
       "      <td>R-tistik</td>\n",
       "      <td>Grand Prix</td>\n",
       "      <td>Yes</td>\n",
       "      <td>37123</td>\n",
       "      <td>Ramires</td>\n",
       "      <td>Rex Fritz</td>\n",
       "      <td>Germany</td>\n",
       "      <td>Josef Kathmann</td>\n",
       "      <td>Oldenburg</td>\n",
       "    </tr>\n",
       "    <tr>\n",
       "      <th>5</th>\n",
       "      <td>Pampero</td>\n",
       "      <td>FEI 5 Year Old</td>\n",
       "      <td>No</td>\n",
       "      <td>41386</td>\n",
       "      <td>Ferro</td>\n",
       "      <td>NaN</td>\n",
       "      <td>USA</td>\n",
       "      <td>Margaret Avery</td>\n",
       "      <td>KWPN</td>\n",
       "    </tr>\n",
       "    <tr>\n",
       "      <th>6</th>\n",
       "      <td>Oleander</td>\n",
       "      <td>Grand Prix</td>\n",
       "      <td>Yes</td>\n",
       "      <td>35062</td>\n",
       "      <td>Jazz</td>\n",
       "      <td>Ulft</td>\n",
       "      <td>Netherlands</td>\n",
       "      <td>R. Van Wourdenbergh</td>\n",
       "      <td>KWPN</td>\n",
       "    </tr>\n",
       "    <tr>\n",
       "      <th>7</th>\n",
       "      <td>Freestyle</td>\n",
       "      <td>Prix St. Georges</td>\n",
       "      <td>No</td>\n",
       "      <td>39380</td>\n",
       "      <td>Florestan I</td>\n",
       "      <td>Parademarsch I</td>\n",
       "      <td>Germany</td>\n",
       "      <td>NaN</td>\n",
       "      <td>Westfalen</td>\n",
       "    </tr>\n",
       "    <tr>\n",
       "      <th>8</th>\n",
       "      <td>Wincenzo</td>\n",
       "      <td>Prix St. Georges</td>\n",
       "      <td>No</td>\n",
       "      <td>1026740</td>\n",
       "      <td>Werther</td>\n",
       "      <td>Graphit</td>\n",
       "      <td>Germany</td>\n",
       "      <td>NaN</td>\n",
       "      <td>Hanoverian</td>\n",
       "    </tr>\n",
       "    <tr>\n",
       "      <th>9</th>\n",
       "      <td>Olympus</td>\n",
       "      <td>Grand Prix</td>\n",
       "      <td>Yes</td>\n",
       "      <td>42683</td>\n",
       "      <td>Clavecimbel</td>\n",
       "      <td>NaN</td>\n",
       "      <td>Netherlands</td>\n",
       "      <td>G. Van Der Veen</td>\n",
       "      <td>KWPN</td>\n",
       "    </tr>\n",
       "  </tbody>\n",
       "</table>\n",
       "</div>"
      ],
      "text/plain": [
       "         Horse      HighestLevel  CDI  USDFNumber            Sire  \\\n",
       "0    Rosabella       Third Level   No       37232      Rohdiamant   \n",
       "1     Favereux        Grand Prix   No       38714       Fidermark   \n",
       "2        Devon       Third Level   No       38984     Don Gregory   \n",
       "3  Welfenstein        Grand Prix  Yes       40474  Wolkenstein II   \n",
       "4     R-tistik        Grand Prix  Yes       37123         Ramires   \n",
       "5      Pampero    FEI 5 Year Old   No       41386           Ferro   \n",
       "6     Oleander        Grand Prix  Yes       35062            Jazz   \n",
       "7    Freestyle  Prix St. Georges   No       39380     Florestan I   \n",
       "8     Wincenzo  Prix St. Georges   No     1026740         Werther   \n",
       "9      Olympus        Grand Prix  Yes       42683     Clavecimbel   \n",
       "\n",
       "               Damsire      Country              Breeder     Studbook  \n",
       "0             Watzmann      Germany    Kerstin Ohlemeyer   Hanoverian  \n",
       "1              Fidelio      Germany     Johannes Hilgers  Rhinelander  \n",
       "2                  NaN          NaN                  NaN    Oldenburg  \n",
       "3  Lauries Crusador xx      Germany          Heinz Bruns   Hanoverian  \n",
       "4            Rex Fritz      Germany       Josef Kathmann    Oldenburg  \n",
       "5                  NaN          USA       Margaret Avery         KWPN  \n",
       "6                 Ulft  Netherlands  R. Van Wourdenbergh         KWPN  \n",
       "7       Parademarsch I      Germany                  NaN    Westfalen  \n",
       "8              Graphit      Germany                  NaN   Hanoverian  \n",
       "9                  NaN  Netherlands      G. Van Der Veen         KWPN  "
      ]
     },
     "execution_count": 360,
     "metadata": {},
     "output_type": "execute_result"
    }
   ],
   "source": [
    "# load CSV of horse data into a dataframe and display first 10 results\n",
    "horse_df = pd.read_csv(\"resources/yh-horse-data.csv\")\n",
    "horse_df.head(10)\n"
   ]
  },
  {
   "cell_type": "code",
   "execution_count": 361,
   "metadata": {},
   "outputs": [
    {
     "data": {
      "text/plain": [
       "Horse            0\n",
       "HighestLevel     0\n",
       "CDI              0\n",
       "USDFNumber       0\n",
       "Sire             1\n",
       "Damsire         18\n",
       "Country          8\n",
       "Breeder         47\n",
       "Studbook         1\n",
       "dtype: int64"
      ]
     },
     "execution_count": 361,
     "metadata": {},
     "output_type": "execute_result"
    }
   ],
   "source": [
    "# get count of null values by column\n",
    "horse_df.isnull().sum(axis = 0)"
   ]
  },
  {
   "cell_type": "code",
   "execution_count": 329,
   "metadata": {},
   "outputs": [
    {
     "name": "stdout",
     "output_type": "stream",
     "text": [
      "The total number of horses competing from 2002-2019 is 520.\n"
     ]
    }
   ],
   "source": [
    "# get the total number of horses that competed in the 4/5/6 year old divisions from 2002-2019\n",
    "\n",
    "total_horses = championship_df.loc[(championship_df[\"Year\"] <= 2019) &\n",
    "                             (championship_df[\"Division\"].str.contains(\"USEF4|FEI5|FEI6\"))]\n",
    "total_horses = total_horses[\"USDFNumber\"].nunique()\n",
    "\n",
    "print(f\"The total number of horses competing from 2002-2019 is {total_horses}.\")"
   ]
  },
  {
   "cell_type": "code",
   "execution_count": 330,
   "metadata": {},
   "outputs": [
    {
     "name": "stdout",
     "output_type": "stream",
     "text": [
      "The number of CDI competitors is 169.\n"
     ]
    }
   ],
   "source": [
    "# get the overall number of horses that have competed in at least one CDI (any level other than Young Horse divisions)\n",
    "# from 2002-2019, that competed in the 4/5/6/ year old divisions during those years\n",
    "\n",
    "cdi_horses = championship_df.loc[(championship_df[\"CDI\"] == \"Yes\") & (championship_df[\"Year\"] <= 2019) &\n",
    "                             (championship_df[\"Division\"].str.contains(\"USEF4|FEI5|FEI6\"))]\n",
    "cdi_horses = cdi_horses[\"USDFNumber\"].nunique()\n",
    "\n",
    "\n",
    "print(f\"The number of CDI competitors is {cdi_horses}.\")"
   ]
  },
  {
   "cell_type": "code",
   "execution_count": 375,
   "metadata": {},
   "outputs": [
    {
     "name": "stdout",
     "output_type": "stream",
     "text": [
      "The percentage of CDI competitors is 32.5%\n"
     ]
    }
   ],
   "source": [
    "# get the overall percentage of horses that competed in at least one CDI \n",
    "cdi_percentage = (cdi_horses / total_horses) * 100\n",
    "print(f\"The percentage of CDI competitors is {cdi_percentage}%\")"
   ]
  },
  {
   "cell_type": "code",
   "execution_count": 356,
   "metadata": {},
   "outputs": [
    {
     "name": "stdout",
     "output_type": "stream",
     "text": [
      "The number of Grand Prix horses is 138.\n"
     ]
    }
   ],
   "source": [
    "# get the number of horses that competed to Grand Prix from 2002-2019, \n",
    "# that competed in the 4/5/6/ year old divisions during those years\n",
    "\n",
    "grandprix_horses = championship_df.loc[(championship_df[\"HighestLevel\"] == \"Grand Prix\") & (championship_df[\"Year\"] <= 2019) &\n",
    "                             (championship_df[\"Division\"].str.contains(\"USEF4|FEI5|FEI6\"))]\n",
    "grandprix_horses = grandprix_horses[\"USDFNumber\"].nunique()\n",
    "\n",
    "\n",
    "print(f\"The number of Grand Prix horses is {grandprix_horses}.\")"
   ]
  },
  {
   "cell_type": "code",
   "execution_count": 378,
   "metadata": {},
   "outputs": [
    {
     "name": "stdout",
     "output_type": "stream",
     "text": [
      "The percentage of Grand Prix horses is 26.54%.\n"
     ]
    }
   ],
   "source": [
    "# get the percentage of all horses that competed at Grand Prix, from 2002-2019,\n",
    "# that competed in the 4/5/6 year old divisions during those years\n",
    "\n",
    "grand_prix_percentage = (grandprix_horses / total_horses) * 100\n",
    "grand_prix_percentage = round(grand_prix_percentage, 2)\n",
    "print(f\"The percentage of Grand Prix horses is {grand_prix_percentage}%.\")"
   ]
  },
  {
   "cell_type": "code",
   "execution_count": 358,
   "metadata": {},
   "outputs": [
    {
     "data": {
      "text/plain": [
       "363"
      ]
     },
     "execution_count": 358,
     "metadata": {},
     "output_type": "execute_result"
    }
   ],
   "source": [
    "# get the horses that have competed at FEI (Prix St. Georges and above) from 2002-2019\n",
    "levels = ['Grand Prix', 'I-2', 'I-A', 'I-B', 'I-1', 'Prix St. Georges','FEI Junior']\n",
    "\n",
    "fei_df = championship_df[(championship_df['HighestLevel'].isin(levels)) & (championship_df[\"Year\"] <= 2019) &\n",
    "                             (championship_df[\"Division\"].str.contains(\"USEF4|FEI5|FEI6\"))]\n",
    "fei_df = fei_df[\"USDFNumber\"].nunique()\n",
    "\n",
    "fei_df"
   ]
  },
  {
   "cell_type": "code",
   "execution_count": 379,
   "metadata": {},
   "outputs": [
    {
     "name": "stdout",
     "output_type": "stream",
     "text": [
      "The percentage of FEI horses is 69.81%.\n"
     ]
    }
   ],
   "source": [
    "# get the percentage of FEI horses that competed at Grand Prix, from 2002-2019,\n",
    "# that competed in the 4/5/6 year old divisions during those years\n",
    "\n",
    "fei_percentage = (fei_df / total_horses) * 100\n",
    "fei_percentage = round(fei_percentage, 2)\n",
    "print(f\"The percentage of FEI horses is {fei_percentage}%.\")"
   ]
  },
  {
   "cell_type": "code",
   "execution_count": 359,
   "metadata": {},
   "outputs": [
    {
     "data": {
      "text/html": [
       "<div>\n",
       "<style scoped>\n",
       "    .dataframe tbody tr th:only-of-type {\n",
       "        vertical-align: middle;\n",
       "    }\n",
       "\n",
       "    .dataframe tbody tr th {\n",
       "        vertical-align: top;\n",
       "    }\n",
       "\n",
       "    .dataframe thead th {\n",
       "        text-align: right;\n",
       "    }\n",
       "</style>\n",
       "<table border=\"1\" class=\"dataframe\">\n",
       "  <thead>\n",
       "    <tr style=\"text-align: right;\">\n",
       "      <th></th>\n",
       "      <th>Total Horses</th>\n",
       "      <th>Total FEI Horses</th>\n",
       "      <th>Percentage of FEI Horses</th>\n",
       "      <th>Total CDI Horses</th>\n",
       "      <th>Percentage of CDI Horses</th>\n",
       "      <th>Total Grand Prix Horses</th>\n",
       "      <th>Percentage of Grand Prix Horses</th>\n",
       "    </tr>\n",
       "  </thead>\n",
       "  <tbody>\n",
       "    <tr>\n",
       "      <th>0</th>\n",
       "      <td>520</td>\n",
       "      <td>363</td>\n",
       "      <td>69.807692</td>\n",
       "      <td>169</td>\n",
       "      <td>32.5</td>\n",
       "      <td>138</td>\n",
       "      <td>26.538462</td>\n",
       "    </tr>\n",
       "  </tbody>\n",
       "</table>\n",
       "</div>"
      ],
      "text/plain": [
       "   Total Horses  Total FEI Horses  Percentage of FEI Horses  Total CDI Horses  \\\n",
       "0           520               363                 69.807692               169   \n",
       "\n",
       "   Percentage of CDI Horses  Total Grand Prix Horses  \\\n",
       "0                      32.5                      138   \n",
       "\n",
       "   Percentage of Grand Prix Horses  \n",
       "0                        26.538462  "
      ]
     },
     "execution_count": 359,
     "metadata": {},
     "output_type": "execute_result"
    }
   ],
   "source": [
    "# create summary table of overall horse level statistics\n",
    "\n",
    "horse_summary = pd.DataFrame({\"Total Horses\": [total_horses], \"Total FEI Horses\": fei_df,\n",
    "                            \"Percentage of FEI Horses\": fei_percentage, \n",
    "                            \"Total CDI Horses\": cdi_horses,\n",
    "                            \"Percentage of CDI Horses\": cdi_percentage,\n",
    "                            \"Total Grand Prix Horses\": grandprix_horses,\n",
    "                            \"Percentage of Grand Prix Horses\": grand_prix_percentage})\n",
    "\n",
    "\n",
    "horse_summary"
   ]
  },
  {
   "cell_type": "code",
   "execution_count": 338,
   "metadata": {},
   "outputs": [
    {
     "data": {
      "text/html": [
       "<div>\n",
       "<style scoped>\n",
       "    .dataframe tbody tr th:only-of-type {\n",
       "        vertical-align: middle;\n",
       "    }\n",
       "\n",
       "    .dataframe tbody tr th {\n",
       "        vertical-align: top;\n",
       "    }\n",
       "\n",
       "    .dataframe thead th {\n",
       "        text-align: right;\n",
       "    }\n",
       "</style>\n",
       "<table border=\"1\" class=\"dataframe\">\n",
       "  <thead>\n",
       "    <tr style=\"text-align: right;\">\n",
       "      <th></th>\n",
       "      <th>Median Score</th>\n",
       "    </tr>\n",
       "    <tr>\n",
       "      <th>Division</th>\n",
       "      <th></th>\n",
       "    </tr>\n",
       "  </thead>\n",
       "  <tbody>\n",
       "    <tr>\n",
       "      <th>DHGP</th>\n",
       "      <td>64.8880</td>\n",
       "    </tr>\n",
       "    <tr>\n",
       "      <th>DHPSG</th>\n",
       "      <td>67.3390</td>\n",
       "    </tr>\n",
       "    <tr>\n",
       "      <th>FEI5</th>\n",
       "      <td>7.5840</td>\n",
       "    </tr>\n",
       "    <tr>\n",
       "      <th>FEI6</th>\n",
       "      <td>7.5040</td>\n",
       "    </tr>\n",
       "    <tr>\n",
       "      <th>FEI7</th>\n",
       "      <td>71.3295</td>\n",
       "    </tr>\n",
       "    <tr>\n",
       "      <th>USEF4</th>\n",
       "      <td>7.6200</td>\n",
       "    </tr>\n",
       "  </tbody>\n",
       "</table>\n",
       "</div>"
      ],
      "text/plain": [
       "          Median Score\n",
       "Division              \n",
       "DHGP           64.8880\n",
       "DHPSG          67.3390\n",
       "FEI5            7.5840\n",
       "FEI6            7.5040\n",
       "FEI7           71.3295\n",
       "USEF4           7.6200"
      ]
     },
     "execution_count": 338,
     "metadata": {},
     "output_type": "execute_result"
    }
   ],
   "source": [
    "# get the median scores by division over all years\n",
    "\n",
    "median_groups = championship_df.groupby(\"Division\")[\"OverallScore\"]\n",
    "\n",
    "median_summary = pd.DataFrame({\"Median Score\": median_groups.median()}) \n",
    "\n",
    "median_summary\n"
   ]
  },
  {
   "cell_type": "code",
   "execution_count": 380,
   "metadata": {},
   "outputs": [
    {
     "name": "stdout",
     "output_type": "stream",
     "text": [
      "280 horses placed in the top 10 of their division.\n"
     ]
    }
   ],
   "source": [
    "# get the number of FEI horses that placed in the top 10 of their division at the championships between 2002-2019\n",
    "\n",
    "placing = [1,2,3,4,5,6,7,8,9,10]\n",
    "levels = ['Grand Prix', 'I-2', 'I-A', 'I-B', 'I-1', 'Prix St. Georges','FEI Junior']\n",
    "\n",
    "top_ten = championship_df[(championship_df['OverallPlacing'].isin(placing)) & (championship_df['HighestLevel'].isin(levels))\n",
    "                          & (championship_df[\"Year\"] <= 2019) &\n",
    "                             (championship_df[\"Division\"].str.contains(\"USEF4|FEI5|FEI6\"))]\n",
    "\n",
    "top_ten = top_ten[\"USDFNumber\"].nunique()\n",
    "\n",
    "print(f\"{top_ten} horses placed in the top 10 of their division.\")\n",
    "\n",
    "\n"
   ]
  },
  {
   "cell_type": "code",
   "execution_count": 381,
   "metadata": {},
   "outputs": [
    {
     "name": "stdout",
     "output_type": "stream",
     "text": [
      "111 horses placed in the bottom 10 of their division.\n"
     ]
    }
   ],
   "source": [
    "# get the number of FEI horses that placed in the bottom 10 of their division between 2002-2019\n",
    "\n",
    "lower_placing = [11,12,13,14,15,16,17,18,19,20]\n",
    "levels = ['Grand Prix', 'I-2', 'I-A', 'I-B', 'I-1', 'Prix St. Georges','FEI Junior']\n",
    "\n",
    "bottom_ten = championship_df[(championship_df['OverallPlacing'].isin(lower_placing)) & (championship_df['HighestLevel'].isin(levels))\n",
    "                          & (championship_df[\"Year\"] <= 2019) &\n",
    "                             (championship_df[\"Division\"].str.contains(\"USEF4|FEI5|FEI6\"))]\n",
    "\n",
    "bottom_ten = bottom_ten[\"USDFNumber\"].nunique()\n",
    "\n",
    "print(f\"{bottom_ten} horses placed in the bottom 10 of their division.\")"
   ]
  },
  {
   "cell_type": "code",
   "execution_count": 382,
   "metadata": {},
   "outputs": [
    {
     "name": "stdout",
     "output_type": "stream",
     "text": [
      "The percentage of horses placing in the top ten of their division is 77.13%.\n"
     ]
    }
   ],
   "source": [
    "# get the percentage of horses in the top ten of their division\n",
    "\n",
    "top_ten_percentage = (top_ten / fei_df) * 100\n",
    "\n",
    "top_ten_percentage = round(top_ten_percentage, 2)\n",
    "print(f\"The percentage of horses placing in the top ten of their division is {top_ten_percentage}%.\")"
   ]
  },
  {
   "cell_type": "code",
   "execution_count": 383,
   "metadata": {},
   "outputs": [
    {
     "name": "stdout",
     "output_type": "stream",
     "text": [
      "The percentage of horses placing in the top ten of their division is 30.58%.\n"
     ]
    }
   ],
   "source": [
    "# get the percentage of horses in the top ten of their division\n",
    "\n",
    "bottom_ten_percentage = (bottom_ten / fei_df) * 100\n",
    "\n",
    "bottom_ten_percentage = round(bottom_ten_percentage, 2)\n",
    "print(f\"The percentage of horses placing in the top ten of their division is {bottom_ten_percentage}%.\")"
   ]
  },
  {
   "cell_type": "code",
   "execution_count": 384,
   "metadata": {},
   "outputs": [
    {
     "name": "stdout",
     "output_type": "stream",
     "text": [
      "307 horses were bred in the USA.\n"
     ]
    }
   ],
   "source": [
    "# get the number of horses bred in the USA that competed in the years 2002-2023\n",
    "\n",
    "usa_count = horse_df[(horse_df[\"Country\"] == \"USA\")].count()[\"USDFNumber\"]\n",
    "\n",
    "usa_count\n",
    "print(f\"{usa_count} horses were bred in the USA.\")"
   ]
  },
  {
   "cell_type": "code",
   "execution_count": 345,
   "metadata": {},
   "outputs": [
    {
     "name": "stdout",
     "output_type": "stream",
     "text": [
      "The percentage of horses bred in the USA is 36.1474435196195\n"
     ]
    }
   ],
   "source": [
    "all_horses = len(horse_df)\n",
    "usa_percentage = (usa_count / all_horses) * 100\n",
    "print(f\"The percentage of horses bred in the USA is {usa_percentage}\")"
   ]
  },
  {
   "cell_type": "code",
   "execution_count": 370,
   "metadata": {},
   "outputs": [
    {
     "data": {
      "text/plain": [
       "Sandro Hit          24\n",
       "Sir Donnerhall I    18\n",
       "Furstenball         17\n",
       "Jazz                13\n",
       "Rotspon             12\n",
       "Fidertanz           12\n",
       "Florestan I         12\n",
       "Hotline             10\n",
       "Sir Sinclair         9\n",
       "Florencio I          9\n",
       "Grand Galaxy Win     9\n",
       "Name: Sire, dtype: int64"
      ]
     },
     "execution_count": 370,
     "metadata": {},
     "output_type": "execute_result"
    }
   ],
   "source": [
    "# get the top ten sires represented over all years (2002-2023)\n",
    "# showing 11 horses, as there are three horses tied for the 9th place spot\n",
    "\n",
    "top_sires = horse_df['Sire'].value_counts().head(11)\n",
    "\n",
    "top_sires\n"
   ]
  },
  {
   "cell_type": "code",
   "execution_count": 373,
   "metadata": {},
   "outputs": [
    {
     "data": {
      "text/plain": [
       "Sandro Hit          12\n",
       "Jazz                 8\n",
       "Sir Donnerhall I     7\n",
       "Florestan I          5\n",
       "Florencio I          5\n",
       "Fidertanz            4\n",
       "Quaterback           4\n",
       "Rotspon              4\n",
       "Belissimo M          4\n",
       "Furstenball          3\n",
       "Name: Sire, dtype: int64"
      ]
     },
     "execution_count": 373,
     "metadata": {},
     "output_type": "execute_result"
    }
   ],
   "source": [
    "gp_sires = horse_df.loc[(horse_df[\"HighestLevel\"] == \"Grand Prix\")]\n",
    "gp_sires = gp_sires['Sire'].value_counts().head(10)\n",
    "gp_sires"
   ]
  },
  {
   "cell_type": "code",
   "execution_count": 372,
   "metadata": {},
   "outputs": [
    {
     "data": {
      "text/plain": [
       "Rubinstein          25\n",
       "De Niro             18\n",
       "Sandro Hit          17\n",
       "Jazz                16\n",
       "Rotspon             16\n",
       "Weltmeyer           14\n",
       "Ferro               13\n",
       "Krack C             11\n",
       "Sir Donnerhall I    11\n",
       "Rohdiamant          11\n",
       "Name: Damsire, dtype: int64"
      ]
     },
     "execution_count": 372,
     "metadata": {},
     "output_type": "execute_result"
    }
   ],
   "source": [
    "# get the top ten damsires represented over all years (2002 - 2023)\n",
    "\n",
    "top_damsires = horse_df['Damsire'].value_counts().head(10)\n",
    "\n",
    "top_damsires"
   ]
  },
  {
   "cell_type": "code",
   "execution_count": 374,
   "metadata": {},
   "outputs": [
    {
     "data": {
      "text/plain": [
       "De Niro           7\n",
       "Rubinstein        6\n",
       "Rotspon           6\n",
       "Brentano II       5\n",
       "Ferro             5\n",
       "Weltmeyer         4\n",
       "Rohdiamant        4\n",
       "Jazz              4\n",
       "Flemmingh         3\n",
       "Wolkenstein II    3\n",
       "Name: Damsire, dtype: int64"
      ]
     },
     "execution_count": 374,
     "metadata": {},
     "output_type": "execute_result"
    }
   ],
   "source": [
    "gp_damsires = horse_df.loc[(horse_df[\"HighestLevel\"] == \"Grand Prix\")]\n",
    "gp_damsires = gp_damsires['Damsire'].value_counts().head(10)\n",
    "gp_damsires"
   ]
  },
  {
   "cell_type": "code",
   "execution_count": 364,
   "metadata": {},
   "outputs": [
    {
     "data": {
      "text/plain": [
       "DG Bar Ranch          16\n",
       "Maryanna Haymon       12\n",
       "Nancy Holowesko        9\n",
       "Leatherdale Farms      7\n",
       "Gestut Lewitz          6\n",
       "Oak Hill Ranch         6\n",
       "Judy Yancey            6\n",
       "Horses Unlimited       6\n",
       "Jackie Ahl-Eckhaus     5\n",
       "Maurine Swanson        5\n",
       "Name: Breeder, dtype: int64"
      ]
     },
     "execution_count": 364,
     "metadata": {},
     "output_type": "execute_result"
    }
   ],
   "source": [
    "# get the top ten most prominent breeders represented over all years (2002 - 2023)\n",
    "\n",
    "top_breeders = horse_df['Breeder'].value_counts().head(10)\n",
    "\n",
    "top_breeders"
   ]
  },
  {
   "cell_type": "code",
   "execution_count": 365,
   "metadata": {},
   "outputs": [
    {
     "data": {
      "text/plain": [
       "DG Bar Ranch                3\n",
       "Nancy Holowesko             2\n",
       "Maryanna Haymon             2\n",
       "Marefield Meadows           2\n",
       "J.H. Kamperman              2\n",
       "Nedergaard Dressage         2\n",
       "Meg Williams                2\n",
       "Horses Unlimited            2\n",
       "Jackie Ahl-Eckhaus          2\n",
       "Catherine Haddad Staller    2\n",
       "Name: Breeder, dtype: int64"
      ]
     },
     "execution_count": 365,
     "metadata": {},
     "output_type": "execute_result"
    }
   ],
   "source": [
    "# get the breeders with the most top 3 placings over all years\n",
    "placing = [1,2,3]\n",
    "\n",
    "highest_placed_breeders = combined_df[(combined_df['OverallPlacing'].isin(placing))]\n",
    "highest_placed_breeders = highest_placed_breeders.drop_duplicates(subset=\"USDFNumber\")\n",
    "highest_placed_breeders[\"Breeder\"].value_counts().head(10)\n",
    "\n",
    "\n"
   ]
  },
  {
   "cell_type": "code",
   "execution_count": 366,
   "metadata": {},
   "outputs": [
    {
     "data": {
      "text/plain": [
       "USA              307\n",
       "Germany          299\n",
       "Netherlands      165\n",
       "Denmark           26\n",
       "Canada             7\n",
       "Belgium            7\n",
       "Spain              5\n",
       "Great Britain      5\n",
       "Norway             4\n",
       "Sweden             2\n",
       "Name: Country, dtype: int64"
      ]
     },
     "execution_count": 366,
     "metadata": {},
     "output_type": "execute_result"
    }
   ],
   "source": [
    "# get the top ten countries represented over all years (2002 - 2023)\n",
    "\n",
    "top_countries = horse_df['Country'].value_counts().head(10)\n",
    "\n",
    "top_countries"
   ]
  },
  {
   "cell_type": "code",
   "execution_count": 367,
   "metadata": {},
   "outputs": [
    {
     "data": {
      "text/plain": [
       "KWPN                  243\n",
       "Hanoverian            241\n",
       "Oldenburg             180\n",
       "Westfalen              48\n",
       "Danish Warmblood       34\n",
       "Rhinelander            18\n",
       "American Warmblood     10\n",
       "PRE                     7\n",
       "Holsteiner              7\n",
       "Swedish Warmblood       6\n",
       "Name: Studbook, dtype: int64"
      ]
     },
     "execution_count": 367,
     "metadata": {},
     "output_type": "execute_result"
    }
   ],
   "source": [
    "# get the top ten studbooks represented over all years (2002 - 2023)\n",
    "top_studbooks = horse_df['Studbook'].value_counts().head(10)\n",
    "\n",
    "top_studbooks"
   ]
  },
  {
   "cell_type": "code",
   "execution_count": 368,
   "metadata": {},
   "outputs": [
    {
     "data": {
      "text/plain": [
       "WakeUp                  6\n",
       "Quantum Jazz            5\n",
       "Flavius MF              5\n",
       "Sole Mio                5\n",
       "Sternlicht Hilltop      5\n",
       "Floretienne             5\n",
       "Pikko del Cerro HU      5\n",
       "Fashion Designer OLD    5\n",
       "Don Cesar               5\n",
       "Au Revoir               5\n",
       "Name: Horse, dtype: int64"
      ]
     },
     "execution_count": 368,
     "metadata": {},
     "output_type": "execute_result"
    }
   ],
   "source": [
    "# get the top horses with the most championship appearances over all years (2002 - 2023)\n",
    "\n",
    "most_appearances = championship_df['Horse'].value_counts().head(10)\n",
    "\n",
    "most_appearances"
   ]
  }
 ],
 "metadata": {
  "kernelspec": {
   "display_name": "Python 3 (ipykernel)",
   "language": "python",
   "name": "python3"
  },
  "language_info": {
   "codemirror_mode": {
    "name": "ipython",
    "version": 3
   },
   "file_extension": ".py",
   "mimetype": "text/x-python",
   "name": "python",
   "nbconvert_exporter": "python",
   "pygments_lexer": "ipython3",
   "version": "3.10.11"
  }
 },
 "nbformat": 4,
 "nbformat_minor": 2
}
