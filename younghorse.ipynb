{
 "cells": [
  {
   "cell_type": "code",
   "execution_count": 1,
   "metadata": {},
   "outputs": [],
   "source": [
    "# import required packages\n",
    "\n",
    "import pandas as pd\n",
    "import numpy as np"
   ]
  },
  {
   "cell_type": "markdown",
   "metadata": {},
   "source": [
    "## Load Files"
   ]
  },
  {
   "cell_type": "code",
   "execution_count": 2,
   "metadata": {},
   "outputs": [
    {
     "data": {
      "text/html": [
       "<div>\n",
       "<style scoped>\n",
       "    .dataframe tbody tr th:only-of-type {\n",
       "        vertical-align: middle;\n",
       "    }\n",
       "\n",
       "    .dataframe tbody tr th {\n",
       "        vertical-align: top;\n",
       "    }\n",
       "\n",
       "    .dataframe thead th {\n",
       "        text-align: right;\n",
       "    }\n",
       "</style>\n",
       "<table border=\"1\" class=\"dataframe\">\n",
       "  <thead>\n",
       "    <tr style=\"text-align: right;\">\n",
       "      <th></th>\n",
       "      <th>Year</th>\n",
       "      <th>Division</th>\n",
       "      <th>Horse</th>\n",
       "      <th>OverallPlacing</th>\n",
       "      <th>HighestLevel</th>\n",
       "      <th>CDI</th>\n",
       "      <th>USDFNumber</th>\n",
       "      <th>OverallScore</th>\n",
       "    </tr>\n",
       "  </thead>\n",
       "  <tbody>\n",
       "    <tr>\n",
       "      <th>0</th>\n",
       "      <td>2002</td>\n",
       "      <td>FEI5</td>\n",
       "      <td>Rosabella</td>\n",
       "      <td>1</td>\n",
       "      <td>Third Level</td>\n",
       "      <td>No</td>\n",
       "      <td>37232</td>\n",
       "      <td>7.84</td>\n",
       "    </tr>\n",
       "    <tr>\n",
       "      <th>1</th>\n",
       "      <td>2002</td>\n",
       "      <td>FEI5</td>\n",
       "      <td>Favereux</td>\n",
       "      <td>2</td>\n",
       "      <td>Grand Prix</td>\n",
       "      <td>No</td>\n",
       "      <td>38714</td>\n",
       "      <td>7.68</td>\n",
       "    </tr>\n",
       "    <tr>\n",
       "      <th>2</th>\n",
       "      <td>2002</td>\n",
       "      <td>FEI5</td>\n",
       "      <td>Devon</td>\n",
       "      <td>3</td>\n",
       "      <td>Third Level</td>\n",
       "      <td>No</td>\n",
       "      <td>38984</td>\n",
       "      <td>7.42</td>\n",
       "    </tr>\n",
       "    <tr>\n",
       "      <th>3</th>\n",
       "      <td>2002</td>\n",
       "      <td>FEI5</td>\n",
       "      <td>Welfenstein</td>\n",
       "      <td>4</td>\n",
       "      <td>Grand Prix</td>\n",
       "      <td>Yes</td>\n",
       "      <td>40474</td>\n",
       "      <td>7.14</td>\n",
       "    </tr>\n",
       "    <tr>\n",
       "      <th>4</th>\n",
       "      <td>2002</td>\n",
       "      <td>FEI5</td>\n",
       "      <td>R-tistik</td>\n",
       "      <td>5</td>\n",
       "      <td>Grand Prix</td>\n",
       "      <td>Yes</td>\n",
       "      <td>37123</td>\n",
       "      <td>7.10</td>\n",
       "    </tr>\n",
       "    <tr>\n",
       "      <th>5</th>\n",
       "      <td>2002</td>\n",
       "      <td>FEI5</td>\n",
       "      <td>Pampero</td>\n",
       "      <td>6</td>\n",
       "      <td>FEI 5 Year Old</td>\n",
       "      <td>No</td>\n",
       "      <td>41386</td>\n",
       "      <td>6.82</td>\n",
       "    </tr>\n",
       "    <tr>\n",
       "      <th>6</th>\n",
       "      <td>2002</td>\n",
       "      <td>FEI6</td>\n",
       "      <td>Oleander</td>\n",
       "      <td>1</td>\n",
       "      <td>Grand Prix</td>\n",
       "      <td>Yes</td>\n",
       "      <td>35062</td>\n",
       "      <td>8.24</td>\n",
       "    </tr>\n",
       "    <tr>\n",
       "      <th>7</th>\n",
       "      <td>2002</td>\n",
       "      <td>FEI6</td>\n",
       "      <td>Freestyle</td>\n",
       "      <td>2</td>\n",
       "      <td>Prix St. Georges</td>\n",
       "      <td>No</td>\n",
       "      <td>39380</td>\n",
       "      <td>7.40</td>\n",
       "    </tr>\n",
       "    <tr>\n",
       "      <th>8</th>\n",
       "      <td>2002</td>\n",
       "      <td>FEI6</td>\n",
       "      <td>Wincenzo</td>\n",
       "      <td>3</td>\n",
       "      <td>Prix St. Georges</td>\n",
       "      <td>No</td>\n",
       "      <td>1026740</td>\n",
       "      <td>7.00</td>\n",
       "    </tr>\n",
       "    <tr>\n",
       "      <th>9</th>\n",
       "      <td>2002</td>\n",
       "      <td>FEI6</td>\n",
       "      <td>Olympus</td>\n",
       "      <td>4</td>\n",
       "      <td>Grand Prix</td>\n",
       "      <td>Yes</td>\n",
       "      <td>42683</td>\n",
       "      <td>6.86</td>\n",
       "    </tr>\n",
       "  </tbody>\n",
       "</table>\n",
       "</div>"
      ],
      "text/plain": [
       "   Year Division        Horse  OverallPlacing      HighestLevel  CDI  \\\n",
       "0  2002     FEI5    Rosabella               1       Third Level   No   \n",
       "1  2002     FEI5     Favereux               2        Grand Prix   No   \n",
       "2  2002     FEI5        Devon               3       Third Level   No   \n",
       "3  2002     FEI5  Welfenstein               4        Grand Prix  Yes   \n",
       "4  2002     FEI5     R-tistik               5        Grand Prix  Yes   \n",
       "5  2002     FEI5      Pampero               6    FEI 5 Year Old   No   \n",
       "6  2002     FEI6     Oleander               1        Grand Prix  Yes   \n",
       "7  2002     FEI6    Freestyle               2  Prix St. Georges   No   \n",
       "8  2002     FEI6     Wincenzo               3  Prix St. Georges   No   \n",
       "9  2002     FEI6      Olympus               4        Grand Prix  Yes   \n",
       "\n",
       "   USDFNumber  OverallScore  \n",
       "0       37232          7.84  \n",
       "1       38714          7.68  \n",
       "2       38984          7.42  \n",
       "3       40474          7.14  \n",
       "4       37123          7.10  \n",
       "5       41386          6.82  \n",
       "6       35062          8.24  \n",
       "7       39380          7.40  \n",
       "8     1026740          7.00  \n",
       "9       42683          6.86  "
      ]
     },
     "execution_count": 2,
     "metadata": {},
     "output_type": "execute_result"
    }
   ],
   "source": [
    "# load CSV of championship results into a dataframe and display first 10 records\n",
    "\n",
    "championship_df = pd.read_csv(\"resources/yh-championship-data.csv\")\n",
    "championship_df.head(10)"
   ]
  },
  {
   "cell_type": "code",
   "execution_count": 44,
   "metadata": {},
   "outputs": [
    {
     "data": {
      "text/html": [
       "<div>\n",
       "<style scoped>\n",
       "    .dataframe tbody tr th:only-of-type {\n",
       "        vertical-align: middle;\n",
       "    }\n",
       "\n",
       "    .dataframe tbody tr th {\n",
       "        vertical-align: top;\n",
       "    }\n",
       "\n",
       "    .dataframe thead th {\n",
       "        text-align: right;\n",
       "    }\n",
       "</style>\n",
       "<table border=\"1\" class=\"dataframe\">\n",
       "  <thead>\n",
       "    <tr style=\"text-align: right;\">\n",
       "      <th></th>\n",
       "      <th>Horse</th>\n",
       "      <th>HighestLevel</th>\n",
       "      <th>CDI</th>\n",
       "      <th>USDFNumber</th>\n",
       "      <th>Sire</th>\n",
       "      <th>Damsire</th>\n",
       "      <th>Country</th>\n",
       "      <th>Breeder</th>\n",
       "      <th>Studbook</th>\n",
       "      <th>InternationalTeam</th>\n",
       "      <th>TeamMade</th>\n",
       "    </tr>\n",
       "  </thead>\n",
       "  <tbody>\n",
       "    <tr>\n",
       "      <th>0</th>\n",
       "      <td>Rosabella</td>\n",
       "      <td>Third Level</td>\n",
       "      <td>No</td>\n",
       "      <td>37232</td>\n",
       "      <td>Rohdiamant</td>\n",
       "      <td>Watzmann</td>\n",
       "      <td>Germany</td>\n",
       "      <td>Kerstin Ohlemeyer</td>\n",
       "      <td>Hanoverian</td>\n",
       "      <td>No</td>\n",
       "      <td>NaN</td>\n",
       "    </tr>\n",
       "    <tr>\n",
       "      <th>1</th>\n",
       "      <td>Favereux</td>\n",
       "      <td>Grand Prix</td>\n",
       "      <td>No</td>\n",
       "      <td>38714</td>\n",
       "      <td>Fidermark</td>\n",
       "      <td>Fidelio</td>\n",
       "      <td>Germany</td>\n",
       "      <td>Johannes Hilgers</td>\n",
       "      <td>Rhinelander</td>\n",
       "      <td>No</td>\n",
       "      <td>NaN</td>\n",
       "    </tr>\n",
       "    <tr>\n",
       "      <th>2</th>\n",
       "      <td>Devon</td>\n",
       "      <td>Third Level</td>\n",
       "      <td>No</td>\n",
       "      <td>38984</td>\n",
       "      <td>Don Gregory</td>\n",
       "      <td>NaN</td>\n",
       "      <td>NaN</td>\n",
       "      <td>NaN</td>\n",
       "      <td>Oldenburg</td>\n",
       "      <td>No</td>\n",
       "      <td>NaN</td>\n",
       "    </tr>\n",
       "    <tr>\n",
       "      <th>3</th>\n",
       "      <td>Welfenstein</td>\n",
       "      <td>Grand Prix</td>\n",
       "      <td>Yes</td>\n",
       "      <td>40474</td>\n",
       "      <td>Wolkenstein II</td>\n",
       "      <td>Lauries Crusador xx</td>\n",
       "      <td>Germany</td>\n",
       "      <td>Heinz Bruns</td>\n",
       "      <td>Hanoverian</td>\n",
       "      <td>No</td>\n",
       "      <td>NaN</td>\n",
       "    </tr>\n",
       "    <tr>\n",
       "      <th>4</th>\n",
       "      <td>R-tistik</td>\n",
       "      <td>Grand Prix</td>\n",
       "      <td>Yes</td>\n",
       "      <td>37123</td>\n",
       "      <td>Ramires</td>\n",
       "      <td>Rex Fritz</td>\n",
       "      <td>Germany</td>\n",
       "      <td>Josef Kathmann</td>\n",
       "      <td>Oldenburg</td>\n",
       "      <td>No</td>\n",
       "      <td>NaN</td>\n",
       "    </tr>\n",
       "    <tr>\n",
       "      <th>5</th>\n",
       "      <td>Pampero</td>\n",
       "      <td>FEI 5 Year Old</td>\n",
       "      <td>No</td>\n",
       "      <td>41386</td>\n",
       "      <td>Ferro</td>\n",
       "      <td>NaN</td>\n",
       "      <td>USA</td>\n",
       "      <td>Margaret Avery</td>\n",
       "      <td>KWPN</td>\n",
       "      <td>No</td>\n",
       "      <td>NaN</td>\n",
       "    </tr>\n",
       "    <tr>\n",
       "      <th>6</th>\n",
       "      <td>Oleander</td>\n",
       "      <td>Grand Prix</td>\n",
       "      <td>Yes</td>\n",
       "      <td>35062</td>\n",
       "      <td>Jazz</td>\n",
       "      <td>Ulft</td>\n",
       "      <td>Netherlands</td>\n",
       "      <td>R. Van Wourdenbergh</td>\n",
       "      <td>KWPN</td>\n",
       "      <td>No</td>\n",
       "      <td>NaN</td>\n",
       "    </tr>\n",
       "    <tr>\n",
       "      <th>7</th>\n",
       "      <td>Freestyle</td>\n",
       "      <td>Prix St. Georges</td>\n",
       "      <td>No</td>\n",
       "      <td>39380</td>\n",
       "      <td>Florestan I</td>\n",
       "      <td>Parademarsch I</td>\n",
       "      <td>Germany</td>\n",
       "      <td>NaN</td>\n",
       "      <td>Westfalen</td>\n",
       "      <td>No</td>\n",
       "      <td>NaN</td>\n",
       "    </tr>\n",
       "    <tr>\n",
       "      <th>8</th>\n",
       "      <td>Wincenzo</td>\n",
       "      <td>Prix St. Georges</td>\n",
       "      <td>No</td>\n",
       "      <td>1026740</td>\n",
       "      <td>Werther</td>\n",
       "      <td>Graphit</td>\n",
       "      <td>Germany</td>\n",
       "      <td>NaN</td>\n",
       "      <td>Hanoverian</td>\n",
       "      <td>No</td>\n",
       "      <td>NaN</td>\n",
       "    </tr>\n",
       "    <tr>\n",
       "      <th>9</th>\n",
       "      <td>Olympus</td>\n",
       "      <td>Grand Prix</td>\n",
       "      <td>Yes</td>\n",
       "      <td>42683</td>\n",
       "      <td>Clavecimbel</td>\n",
       "      <td>NaN</td>\n",
       "      <td>Netherlands</td>\n",
       "      <td>G. Van Der Veen</td>\n",
       "      <td>KWPN</td>\n",
       "      <td>No</td>\n",
       "      <td>NaN</td>\n",
       "    </tr>\n",
       "  </tbody>\n",
       "</table>\n",
       "</div>"
      ],
      "text/plain": [
       "         Horse      HighestLevel  CDI  USDFNumber            Sire  \\\n",
       "0    Rosabella       Third Level   No       37232      Rohdiamant   \n",
       "1     Favereux        Grand Prix   No       38714       Fidermark   \n",
       "2        Devon       Third Level   No       38984     Don Gregory   \n",
       "3  Welfenstein        Grand Prix  Yes       40474  Wolkenstein II   \n",
       "4     R-tistik        Grand Prix  Yes       37123         Ramires   \n",
       "5      Pampero    FEI 5 Year Old   No       41386           Ferro   \n",
       "6     Oleander        Grand Prix  Yes       35062            Jazz   \n",
       "7    Freestyle  Prix St. Georges   No       39380     Florestan I   \n",
       "8     Wincenzo  Prix St. Georges   No     1026740         Werther   \n",
       "9      Olympus        Grand Prix  Yes       42683     Clavecimbel   \n",
       "\n",
       "               Damsire      Country              Breeder     Studbook  \\\n",
       "0             Watzmann      Germany    Kerstin Ohlemeyer   Hanoverian   \n",
       "1              Fidelio      Germany     Johannes Hilgers  Rhinelander   \n",
       "2                  NaN          NaN                  NaN    Oldenburg   \n",
       "3  Lauries Crusador xx      Germany          Heinz Bruns   Hanoverian   \n",
       "4            Rex Fritz      Germany       Josef Kathmann    Oldenburg   \n",
       "5                  NaN          USA       Margaret Avery         KWPN   \n",
       "6                 Ulft  Netherlands  R. Van Wourdenbergh         KWPN   \n",
       "7       Parademarsch I      Germany                  NaN    Westfalen   \n",
       "8              Graphit      Germany                  NaN   Hanoverian   \n",
       "9                  NaN  Netherlands      G. Van Der Veen         KWPN   \n",
       "\n",
       "  InternationalTeam TeamMade  \n",
       "0                No      NaN  \n",
       "1                No      NaN  \n",
       "2                No      NaN  \n",
       "3                No      NaN  \n",
       "4                No      NaN  \n",
       "5                No      NaN  \n",
       "6                No      NaN  \n",
       "7                No      NaN  \n",
       "8                No      NaN  \n",
       "9                No      NaN  "
      ]
     },
     "execution_count": 44,
     "metadata": {},
     "output_type": "execute_result"
    }
   ],
   "source": [
    "# load CSV of horse data into a dataframe and display first 10 results\n",
    "\n",
    "horse_df = pd.read_csv(\"resources/yh-horse-data.csv\")\n",
    "horse_df.head(10)\n"
   ]
  },
  {
   "cell_type": "code",
   "execution_count": 54,
   "metadata": {},
   "outputs": [
    {
     "data": {
      "text/html": [
       "<div>\n",
       "<style scoped>\n",
       "    .dataframe tbody tr th:only-of-type {\n",
       "        vertical-align: middle;\n",
       "    }\n",
       "\n",
       "    .dataframe tbody tr th {\n",
       "        vertical-align: top;\n",
       "    }\n",
       "\n",
       "    .dataframe thead th {\n",
       "        text-align: right;\n",
       "    }\n",
       "</style>\n",
       "<table border=\"1\" class=\"dataframe\">\n",
       "  <thead>\n",
       "    <tr style=\"text-align: right;\">\n",
       "      <th></th>\n",
       "      <th>Year</th>\n",
       "      <th>Division</th>\n",
       "      <th>Horse_x</th>\n",
       "      <th>OverallPlacing</th>\n",
       "      <th>HighestLevel_x</th>\n",
       "      <th>CDI_x</th>\n",
       "      <th>USDFNumber</th>\n",
       "      <th>OverallScore</th>\n",
       "      <th>Horse_y</th>\n",
       "      <th>HighestLevel_y</th>\n",
       "      <th>CDI_y</th>\n",
       "      <th>Sire</th>\n",
       "      <th>Damsire</th>\n",
       "      <th>Country</th>\n",
       "      <th>Breeder</th>\n",
       "      <th>Studbook</th>\n",
       "      <th>InternationalTeam</th>\n",
       "      <th>TeamMade</th>\n",
       "    </tr>\n",
       "  </thead>\n",
       "  <tbody>\n",
       "    <tr>\n",
       "      <th>0</th>\n",
       "      <td>2002</td>\n",
       "      <td>FEI5</td>\n",
       "      <td>Rosabella</td>\n",
       "      <td>1</td>\n",
       "      <td>Third Level</td>\n",
       "      <td>No</td>\n",
       "      <td>37232</td>\n",
       "      <td>7.84</td>\n",
       "      <td>Rosabella</td>\n",
       "      <td>Third Level</td>\n",
       "      <td>No</td>\n",
       "      <td>Rohdiamant</td>\n",
       "      <td>Watzmann</td>\n",
       "      <td>Germany</td>\n",
       "      <td>Kerstin Ohlemeyer</td>\n",
       "      <td>Hanoverian</td>\n",
       "      <td>No</td>\n",
       "      <td>NaN</td>\n",
       "    </tr>\n",
       "    <tr>\n",
       "      <th>1</th>\n",
       "      <td>2002</td>\n",
       "      <td>FEI5</td>\n",
       "      <td>Favereux</td>\n",
       "      <td>2</td>\n",
       "      <td>Grand Prix</td>\n",
       "      <td>No</td>\n",
       "      <td>38714</td>\n",
       "      <td>7.68</td>\n",
       "      <td>Favereux</td>\n",
       "      <td>Grand Prix</td>\n",
       "      <td>No</td>\n",
       "      <td>Fidermark</td>\n",
       "      <td>Fidelio</td>\n",
       "      <td>Germany</td>\n",
       "      <td>Johannes Hilgers</td>\n",
       "      <td>Rhinelander</td>\n",
       "      <td>No</td>\n",
       "      <td>NaN</td>\n",
       "    </tr>\n",
       "    <tr>\n",
       "      <th>2</th>\n",
       "      <td>2002</td>\n",
       "      <td>FEI5</td>\n",
       "      <td>Devon</td>\n",
       "      <td>3</td>\n",
       "      <td>Third Level</td>\n",
       "      <td>No</td>\n",
       "      <td>38984</td>\n",
       "      <td>7.42</td>\n",
       "      <td>Devon</td>\n",
       "      <td>Third Level</td>\n",
       "      <td>No</td>\n",
       "      <td>Don Gregory</td>\n",
       "      <td>NaN</td>\n",
       "      <td>NaN</td>\n",
       "      <td>NaN</td>\n",
       "      <td>Oldenburg</td>\n",
       "      <td>No</td>\n",
       "      <td>NaN</td>\n",
       "    </tr>\n",
       "    <tr>\n",
       "      <th>3</th>\n",
       "      <td>2002</td>\n",
       "      <td>FEI5</td>\n",
       "      <td>Welfenstein</td>\n",
       "      <td>4</td>\n",
       "      <td>Grand Prix</td>\n",
       "      <td>Yes</td>\n",
       "      <td>40474</td>\n",
       "      <td>7.14</td>\n",
       "      <td>Welfenstein</td>\n",
       "      <td>Grand Prix</td>\n",
       "      <td>Yes</td>\n",
       "      <td>Wolkenstein II</td>\n",
       "      <td>Lauries Crusador xx</td>\n",
       "      <td>Germany</td>\n",
       "      <td>Heinz Bruns</td>\n",
       "      <td>Hanoverian</td>\n",
       "      <td>No</td>\n",
       "      <td>NaN</td>\n",
       "    </tr>\n",
       "    <tr>\n",
       "      <th>4</th>\n",
       "      <td>2002</td>\n",
       "      <td>FEI5</td>\n",
       "      <td>R-tistik</td>\n",
       "      <td>5</td>\n",
       "      <td>Grand Prix</td>\n",
       "      <td>Yes</td>\n",
       "      <td>37123</td>\n",
       "      <td>7.10</td>\n",
       "      <td>R-tistik</td>\n",
       "      <td>Grand Prix</td>\n",
       "      <td>Yes</td>\n",
       "      <td>Ramires</td>\n",
       "      <td>Rex Fritz</td>\n",
       "      <td>Germany</td>\n",
       "      <td>Josef Kathmann</td>\n",
       "      <td>Oldenburg</td>\n",
       "      <td>No</td>\n",
       "      <td>NaN</td>\n",
       "    </tr>\n",
       "    <tr>\n",
       "      <th>5</th>\n",
       "      <td>2002</td>\n",
       "      <td>FEI5</td>\n",
       "      <td>Pampero</td>\n",
       "      <td>6</td>\n",
       "      <td>FEI 5 Year Old</td>\n",
       "      <td>No</td>\n",
       "      <td>41386</td>\n",
       "      <td>6.82</td>\n",
       "      <td>Pampero</td>\n",
       "      <td>FEI 5 Year Old</td>\n",
       "      <td>No</td>\n",
       "      <td>Ferro</td>\n",
       "      <td>NaN</td>\n",
       "      <td>USA</td>\n",
       "      <td>Margaret Avery</td>\n",
       "      <td>KWPN</td>\n",
       "      <td>No</td>\n",
       "      <td>NaN</td>\n",
       "    </tr>\n",
       "    <tr>\n",
       "      <th>6</th>\n",
       "      <td>2002</td>\n",
       "      <td>FEI6</td>\n",
       "      <td>Oleander</td>\n",
       "      <td>1</td>\n",
       "      <td>Grand Prix</td>\n",
       "      <td>Yes</td>\n",
       "      <td>35062</td>\n",
       "      <td>8.24</td>\n",
       "      <td>Oleander</td>\n",
       "      <td>Grand Prix</td>\n",
       "      <td>Yes</td>\n",
       "      <td>Jazz</td>\n",
       "      <td>Ulft</td>\n",
       "      <td>Netherlands</td>\n",
       "      <td>R. Van Wourdenbergh</td>\n",
       "      <td>KWPN</td>\n",
       "      <td>No</td>\n",
       "      <td>NaN</td>\n",
       "    </tr>\n",
       "    <tr>\n",
       "      <th>7</th>\n",
       "      <td>2002</td>\n",
       "      <td>FEI6</td>\n",
       "      <td>Freestyle</td>\n",
       "      <td>2</td>\n",
       "      <td>Prix St. Georges</td>\n",
       "      <td>No</td>\n",
       "      <td>39380</td>\n",
       "      <td>7.40</td>\n",
       "      <td>Freestyle</td>\n",
       "      <td>Prix St. Georges</td>\n",
       "      <td>No</td>\n",
       "      <td>Florestan I</td>\n",
       "      <td>Parademarsch I</td>\n",
       "      <td>Germany</td>\n",
       "      <td>NaN</td>\n",
       "      <td>Westfalen</td>\n",
       "      <td>No</td>\n",
       "      <td>NaN</td>\n",
       "    </tr>\n",
       "    <tr>\n",
       "      <th>8</th>\n",
       "      <td>2002</td>\n",
       "      <td>FEI6</td>\n",
       "      <td>Wincenzo</td>\n",
       "      <td>3</td>\n",
       "      <td>Prix St. Georges</td>\n",
       "      <td>No</td>\n",
       "      <td>1026740</td>\n",
       "      <td>7.00</td>\n",
       "      <td>Wincenzo</td>\n",
       "      <td>Prix St. Georges</td>\n",
       "      <td>No</td>\n",
       "      <td>Werther</td>\n",
       "      <td>Graphit</td>\n",
       "      <td>Germany</td>\n",
       "      <td>NaN</td>\n",
       "      <td>Hanoverian</td>\n",
       "      <td>No</td>\n",
       "      <td>NaN</td>\n",
       "    </tr>\n",
       "    <tr>\n",
       "      <th>9</th>\n",
       "      <td>2002</td>\n",
       "      <td>FEI6</td>\n",
       "      <td>Olympus</td>\n",
       "      <td>4</td>\n",
       "      <td>Grand Prix</td>\n",
       "      <td>Yes</td>\n",
       "      <td>42683</td>\n",
       "      <td>6.86</td>\n",
       "      <td>Olympus</td>\n",
       "      <td>Grand Prix</td>\n",
       "      <td>Yes</td>\n",
       "      <td>Clavecimbel</td>\n",
       "      <td>NaN</td>\n",
       "      <td>Netherlands</td>\n",
       "      <td>G. Van Der Veen</td>\n",
       "      <td>KWPN</td>\n",
       "      <td>No</td>\n",
       "      <td>NaN</td>\n",
       "    </tr>\n",
       "  </tbody>\n",
       "</table>\n",
       "</div>"
      ],
      "text/plain": [
       "   Year Division      Horse_x  OverallPlacing    HighestLevel_x CDI_x  \\\n",
       "0  2002     FEI5    Rosabella               1       Third Level    No   \n",
       "1  2002     FEI5     Favereux               2        Grand Prix    No   \n",
       "2  2002     FEI5        Devon               3       Third Level    No   \n",
       "3  2002     FEI5  Welfenstein               4        Grand Prix   Yes   \n",
       "4  2002     FEI5     R-tistik               5        Grand Prix   Yes   \n",
       "5  2002     FEI5      Pampero               6    FEI 5 Year Old    No   \n",
       "6  2002     FEI6     Oleander               1        Grand Prix   Yes   \n",
       "7  2002     FEI6    Freestyle               2  Prix St. Georges    No   \n",
       "8  2002     FEI6     Wincenzo               3  Prix St. Georges    No   \n",
       "9  2002     FEI6      Olympus               4        Grand Prix   Yes   \n",
       "\n",
       "   USDFNumber  OverallScore      Horse_y    HighestLevel_y CDI_y  \\\n",
       "0       37232          7.84    Rosabella       Third Level    No   \n",
       "1       38714          7.68     Favereux        Grand Prix    No   \n",
       "2       38984          7.42        Devon       Third Level    No   \n",
       "3       40474          7.14  Welfenstein        Grand Prix   Yes   \n",
       "4       37123          7.10     R-tistik        Grand Prix   Yes   \n",
       "5       41386          6.82      Pampero    FEI 5 Year Old    No   \n",
       "6       35062          8.24     Oleander        Grand Prix   Yes   \n",
       "7       39380          7.40    Freestyle  Prix St. Georges    No   \n",
       "8     1026740          7.00     Wincenzo  Prix St. Georges    No   \n",
       "9       42683          6.86      Olympus        Grand Prix   Yes   \n",
       "\n",
       "             Sire              Damsire      Country              Breeder  \\\n",
       "0      Rohdiamant             Watzmann      Germany    Kerstin Ohlemeyer   \n",
       "1       Fidermark              Fidelio      Germany     Johannes Hilgers   \n",
       "2     Don Gregory                  NaN          NaN                  NaN   \n",
       "3  Wolkenstein II  Lauries Crusador xx      Germany          Heinz Bruns   \n",
       "4         Ramires            Rex Fritz      Germany       Josef Kathmann   \n",
       "5           Ferro                  NaN          USA       Margaret Avery   \n",
       "6            Jazz                 Ulft  Netherlands  R. Van Wourdenbergh   \n",
       "7     Florestan I       Parademarsch I      Germany                  NaN   \n",
       "8         Werther              Graphit      Germany                  NaN   \n",
       "9     Clavecimbel                  NaN  Netherlands      G. Van Der Veen   \n",
       "\n",
       "      Studbook InternationalTeam TeamMade  \n",
       "0   Hanoverian                No      NaN  \n",
       "1  Rhinelander                No      NaN  \n",
       "2    Oldenburg                No      NaN  \n",
       "3   Hanoverian                No      NaN  \n",
       "4    Oldenburg                No      NaN  \n",
       "5         KWPN                No      NaN  \n",
       "6         KWPN                No      NaN  \n",
       "7    Westfalen                No      NaN  \n",
       "8   Hanoverian                No      NaN  \n",
       "9         KWPN                No      NaN  "
      ]
     },
     "execution_count": 54,
     "metadata": {},
     "output_type": "execute_result"
    }
   ],
   "source": [
    "# create merged dataframe\n",
    "\n",
    "merged_df = pd.merge(championship_df, horse_df, on='USDFNumber')\n",
    "merged_df.head(10) "
   ]
  },
  {
   "cell_type": "code",
   "execution_count": 4,
   "metadata": {},
   "outputs": [
    {
     "data": {
      "text/plain": [
       "Horse            0\n",
       "HighestLevel     0\n",
       "CDI              0\n",
       "USDFNumber       0\n",
       "Sire             1\n",
       "Damsire         18\n",
       "Country          8\n",
       "Breeder         47\n",
       "Studbook         1\n",
       "dtype: int64"
      ]
     },
     "execution_count": 4,
     "metadata": {},
     "output_type": "execute_result"
    }
   ],
   "source": [
    "# get count of null values by column for horse dataframe\n",
    "\n",
    "horse_df.isnull().sum(axis = 0)"
   ]
  },
  {
   "cell_type": "code",
   "execution_count": 32,
   "metadata": {},
   "outputs": [
    {
     "data": {
      "text/plain": [
       "Year              0\n",
       "Division          0\n",
       "Horse             0\n",
       "OverallPlacing    0\n",
       "HighestLevel      0\n",
       "CDI               0\n",
       "USDFNumber        0\n",
       "OverallScore      0\n",
       "dtype: int64"
      ]
     },
     "execution_count": 32,
     "metadata": {},
     "output_type": "execute_result"
    }
   ],
   "source": [
    "# get count of null values by column for championship dataframe\n",
    "\n",
    "championship_df.isnull().sum(axis = 0)"
   ]
  },
  {
   "cell_type": "markdown",
   "metadata": {},
   "source": [
    "## Analysis of Competitive Outcomes, 2002-2019"
   ]
  },
  {
   "cell_type": "code",
   "execution_count": 5,
   "metadata": {},
   "outputs": [
    {
     "name": "stdout",
     "output_type": "stream",
     "text": [
      "The total number of horses competing from 2002-2019 is 520.\n"
     ]
    }
   ],
   "source": [
    "# get the total number of horses that competed in the 4/5/6 year old divisions from 2002-2019\n",
    "\n",
    "total_horses = championship_df.loc[(championship_df[\"Year\"] <= 2019) &\n",
    "                             (championship_df[\"Division\"].str.contains(\"USEF4|FEI5|FEI6\"))]\n",
    "total_horses = total_horses[\"USDFNumber\"].nunique()\n",
    "\n",
    "print(f\"The total number of horses competing from 2002-2019 is {total_horses}.\")"
   ]
  },
  {
   "cell_type": "code",
   "execution_count": 6,
   "metadata": {},
   "outputs": [
    {
     "name": "stdout",
     "output_type": "stream",
     "text": [
      "The number of CDI competitors is 169.\n"
     ]
    }
   ],
   "source": [
    "# get the overall number of horses that have competed in at least one CDI (any level other than Young Horse divisions)\n",
    "# from 2002-2019, that competed in the 4/5/6/ year old divisions during those years\n",
    "\n",
    "cdi_horses = championship_df.loc[(championship_df[\"CDI\"] == \"Yes\") & (championship_df[\"Year\"] <= 2019) &\n",
    "                             (championship_df[\"Division\"].str.contains(\"USEF4|FEI5|FEI6\"))]\n",
    "cdi_horses = cdi_horses[\"USDFNumber\"].nunique()\n",
    "\n",
    "\n",
    "print(f\"The number of CDI competitors is {cdi_horses}.\")"
   ]
  },
  {
   "cell_type": "code",
   "execution_count": 8,
   "metadata": {},
   "outputs": [
    {
     "name": "stdout",
     "output_type": "stream",
     "text": [
      "The percentage of CDI competitors is 32.5%\n"
     ]
    }
   ],
   "source": [
    "# get the overall percentage of horses that competed in at least one CDI \n",
    "\n",
    "cdi_percentage = (cdi_horses / total_horses) * 100\n",
    "cdi_percentage = round(cdi_percentage, 2)\n",
    "\n",
    "print(f\"The percentage of CDI competitors is {cdi_percentage}%\")"
   ]
  },
  {
   "cell_type": "code",
   "execution_count": 9,
   "metadata": {},
   "outputs": [
    {
     "name": "stdout",
     "output_type": "stream",
     "text": [
      "The number of Grand Prix horses is 138.\n"
     ]
    }
   ],
   "source": [
    "# get the number of horses that competed to Grand Prix from 2002-2019, \n",
    "# that competed in the 4/5/6/ year old divisions during those years\n",
    "\n",
    "grandprix_horses = championship_df.loc[(championship_df[\"HighestLevel\"] == \"Grand Prix\") & (championship_df[\"Year\"] <= 2019) &\n",
    "                             (championship_df[\"Division\"].str.contains(\"USEF4|FEI5|FEI6\"))]\n",
    "grandprix_horses = grandprix_horses[\"USDFNumber\"].nunique()\n",
    "\n",
    "\n",
    "print(f\"The number of Grand Prix horses is {grandprix_horses}.\")"
   ]
  },
  {
   "cell_type": "code",
   "execution_count": 10,
   "metadata": {},
   "outputs": [
    {
     "name": "stdout",
     "output_type": "stream",
     "text": [
      "The percentage of Grand Prix horses is 26.54%.\n"
     ]
    }
   ],
   "source": [
    "# get the percentage of all horses that competed at Grand Prix, from 2002-2019,\n",
    "# that competed in the 4/5/6 year old divisions during those years\n",
    "\n",
    "grand_prix_percentage = (grandprix_horses / total_horses) * 100\n",
    "grand_prix_percentage = round(grand_prix_percentage, 2)\n",
    "\n",
    "print(f\"The percentage of Grand Prix horses is {grand_prix_percentage}%.\")"
   ]
  },
  {
   "cell_type": "code",
   "execution_count": 41,
   "metadata": {},
   "outputs": [
    {
     "name": "stdout",
     "output_type": "stream",
     "text": [
      "The number of horses that competed at FEI is 363.\n"
     ]
    }
   ],
   "source": [
    "# get the horses that have competed at FEI (Prix St. Georges and above) from 2002-2019\n",
    "\n",
    "levels = ['Grand Prix', 'I-2', 'I-A', 'I-B', 'I-1', 'Prix St. Georges','FEI Junior']\n",
    "\n",
    "fei_df = championship_df[(championship_df['HighestLevel'].isin(levels)) & (championship_df[\"Year\"] <= 2019) &\n",
    "                             (championship_df[\"Division\"].str.contains(\"USEF4|FEI5|FEI6\"))]\n",
    "fei_df = fei_df[\"USDFNumber\"].nunique()\n",
    "\n",
    "print(f\"The number of horses that competed at FEI is {fei_df}.\")"
   ]
  },
  {
   "cell_type": "code",
   "execution_count": 15,
   "metadata": {},
   "outputs": [
    {
     "name": "stdout",
     "output_type": "stream",
     "text": [
      "The percentage of horses that competed at FEI is 69.81%.\n"
     ]
    }
   ],
   "source": [
    "# get the percentage of FEI horses that competed at Grand Prix, from 2002-2019,\n",
    "# that competed in the 4/5/6 year old divisions during those years\n",
    "\n",
    "fei_percentage = (fei_df / total_horses) * 100\n",
    "fei_percentage = round(fei_percentage, 2)\n",
    "print(f\"The percentage of horses that competed at FEI is {fei_percentage}%.\")"
   ]
  },
  {
   "cell_type": "code",
   "execution_count": 51,
   "metadata": {},
   "outputs": [
    {
     "name": "stdout",
     "output_type": "stream",
     "text": [
      "     Year Division       Horse_x  OverallPlacing HighestLevel_x CDI_x  \\\n",
      "166  2007     FEI6     Grandioso               1            I-2   Yes   \n",
      "238  2008    USEF4     Selten HW               1     Grand Prix   Yes   \n",
      "399  2011     FEI5        Sanceo               4     Grand Prix   Yes   \n",
      "633  2014    USEF4  Lucky Strike               4            I-1   Yes   \n",
      "\n",
      "     USDFNumber  OverallScore       Horse_y HighestLevel_y CDI_y         Sire  \\\n",
      "166     1049928         8.368     Grandioso            I-2   Yes     Grosso Z   \n",
      "238     1031805         8.560     Selten HW     Grand Prix   Yes   Sandro Hit   \n",
      "399     1083924         8.116        Sanceo     Grand Prix   Yes     San Remo   \n",
      "633     1106541         7.944  Lucky Strike            I-1   Yes  Lord Laurie   \n",
      "\n",
      "             Damsire  Country                    Breeder    Studbook  \\\n",
      "166  Palisandergrund  Germany          Willi Hillebrecht   Westfalen   \n",
      "238       Hohenstein      USA  Irene Hoeflich-Wiederhold  Hanoverian   \n",
      "399  Ramiro's Son II  Germany           Gerhard Dustmann  Hanoverian   \n",
      "633     His Highness  Germany           Monika Hartwitch  Hanoverian   \n",
      "\n",
      "    InternationalTeam                              TeamMade  \n",
      "166               Yes                    Pan American Games  \n",
      "238               Yes                         Olympic Games  \n",
      "399               Yes  Olympic Games and Pan American Games  \n",
      "633               Yes                    Pan American Games  \n"
     ]
    }
   ],
   "source": [
    "# get a list of the horses that went on to make an international team (Pan American or Olympic Games)\n",
    "\n",
    "team_df = merged_df[(merged_df[\"Year\"] <= 2019) & (merged_df[\"InternationalTeam\"] == \"Yes\") &\n",
    "                             (merged_df[\"Division\"].str.contains(\"USEF4|FEI5|FEI6\"))]\n",
    "team_df = team_df.drop_duplicates(subset='USDFNumber')\n",
    "\n",
    "print(team_df)"
   ]
  },
  {
   "cell_type": "code",
   "execution_count": 16,
   "metadata": {},
   "outputs": [
    {
     "data": {
      "text/html": [
       "<div>\n",
       "<style scoped>\n",
       "    .dataframe tbody tr th:only-of-type {\n",
       "        vertical-align: middle;\n",
       "    }\n",
       "\n",
       "    .dataframe tbody tr th {\n",
       "        vertical-align: top;\n",
       "    }\n",
       "\n",
       "    .dataframe thead th {\n",
       "        text-align: right;\n",
       "    }\n",
       "</style>\n",
       "<table border=\"1\" class=\"dataframe\">\n",
       "  <thead>\n",
       "    <tr style=\"text-align: right;\">\n",
       "      <th></th>\n",
       "      <th>Total Horses</th>\n",
       "      <th>Total FEI Horses</th>\n",
       "      <th>Percentage of FEI Horses</th>\n",
       "      <th>Total CDI Horses</th>\n",
       "      <th>Percentage of CDI Horses</th>\n",
       "      <th>Total Grand Prix Horses</th>\n",
       "      <th>Percentage of Grand Prix Horses</th>\n",
       "    </tr>\n",
       "  </thead>\n",
       "  <tbody>\n",
       "    <tr>\n",
       "      <th>0</th>\n",
       "      <td>520</td>\n",
       "      <td>363</td>\n",
       "      <td>69.81</td>\n",
       "      <td>169</td>\n",
       "      <td>32.5</td>\n",
       "      <td>138</td>\n",
       "      <td>26.54</td>\n",
       "    </tr>\n",
       "  </tbody>\n",
       "</table>\n",
       "</div>"
      ],
      "text/plain": [
       "   Total Horses  Total FEI Horses  Percentage of FEI Horses  Total CDI Horses  \\\n",
       "0           520               363                     69.81               169   \n",
       "\n",
       "   Percentage of CDI Horses  Total Grand Prix Horses  \\\n",
       "0                      32.5                      138   \n",
       "\n",
       "   Percentage of Grand Prix Horses  \n",
       "0                            26.54  "
      ]
     },
     "execution_count": 16,
     "metadata": {},
     "output_type": "execute_result"
    }
   ],
   "source": [
    "# create summary table of overall horse level statistics\n",
    "\n",
    "horse_summary = pd.DataFrame({\"Total Horses\": [total_horses], \"Total FEI Horses\": fei_df,\n",
    "                            \"Percentage of FEI Horses\": fei_percentage, \n",
    "                            \"Total CDI Horses\": cdi_horses,\n",
    "                            \"Percentage of CDI Horses\": cdi_percentage,\n",
    "                            \"Total Grand Prix Horses\": grandprix_horses,\n",
    "                            \"Percentage of Grand Prix Horses\": grand_prix_percentage})\n",
    "\n",
    "\n",
    "horse_summary"
   ]
  },
  {
   "cell_type": "code",
   "execution_count": 380,
   "metadata": {},
   "outputs": [
    {
     "name": "stdout",
     "output_type": "stream",
     "text": [
      "280 horses placed in the top 10 of their division.\n"
     ]
    }
   ],
   "source": [
    "# get the number of FEI horses that placed in the top 10 of their division at the championships between 2002-2019\n",
    "\n",
    "placing = [1,2,3,4,5,6,7,8,9,10]\n",
    "levels = ['Grand Prix', 'I-2', 'I-A', 'I-B', 'I-1', 'Prix St. Georges','FEI Junior']\n",
    "\n",
    "top_ten = championship_df[(championship_df['OverallPlacing'].isin(placing)) & (championship_df['HighestLevel'].isin(levels))\n",
    "                          & (championship_df[\"Year\"] <= 2019) &\n",
    "                             (championship_df[\"Division\"].str.contains(\"USEF4|FEI5|FEI6\"))]\n",
    "\n",
    "top_ten = top_ten[\"USDFNumber\"].nunique()\n",
    "\n",
    "print(f\"{top_ten} horses placed in the top 10 of their division.\")\n",
    "\n",
    "\n"
   ]
  },
  {
   "cell_type": "code",
   "execution_count": 381,
   "metadata": {},
   "outputs": [
    {
     "name": "stdout",
     "output_type": "stream",
     "text": [
      "111 horses placed in the bottom 10 of their division.\n"
     ]
    }
   ],
   "source": [
    "# get the number of FEI horses that placed in the bottom 10 of their division between 2002-2019\n",
    "\n",
    "lower_placing = [11,12,13,14,15,16,17,18,19,20]\n",
    "levels = ['Grand Prix', 'I-2', 'I-A', 'I-B', 'I-1', 'Prix St. Georges','FEI Junior']\n",
    "\n",
    "bottom_ten = championship_df[(championship_df['OverallPlacing'].isin(lower_placing)) & (championship_df['HighestLevel'].isin(levels))\n",
    "                          & (championship_df[\"Year\"] <= 2019) &\n",
    "                             (championship_df[\"Division\"].str.contains(\"USEF4|FEI5|FEI6\"))]\n",
    "\n",
    "bottom_ten = bottom_ten[\"USDFNumber\"].nunique()\n",
    "\n",
    "print(f\"{bottom_ten} horses placed in the bottom 10 of their division.\")"
   ]
  },
  {
   "cell_type": "code",
   "execution_count": 382,
   "metadata": {},
   "outputs": [
    {
     "name": "stdout",
     "output_type": "stream",
     "text": [
      "The percentage of horses placing in the top ten of their division is 77.13%.\n"
     ]
    }
   ],
   "source": [
    "# get the percentage of FEI horses in the top ten of their division\n",
    "\n",
    "top_ten_percentage = (top_ten / fei_df) * 100\n",
    "top_ten_percentage = round(top_ten_percentage, 2)\n",
    "\n",
    "print(f\"The percentage of horses placing in the top ten of their division is {top_ten_percentage}%.\")"
   ]
  },
  {
   "cell_type": "code",
   "execution_count": 383,
   "metadata": {},
   "outputs": [
    {
     "name": "stdout",
     "output_type": "stream",
     "text": [
      "The percentage of horses placing in the top ten of their division is 30.58%.\n"
     ]
    }
   ],
   "source": [
    "# get the percentage of FEI horses in the top ten of their division\n",
    "\n",
    "bottom_ten_percentage = (bottom_ten / fei_df) * 100\n",
    "bottom_ten_percentage = round(bottom_ten_percentage, 2)\n",
    "\n",
    "print(f\"The percentage of horses placing in the top ten of their division is {bottom_ten_percentage}%.\")"
   ]
  },
  {
   "cell_type": "markdown",
   "metadata": {},
   "source": [
    "## Bloodline and Breeding Data Analysis, 2002-2023"
   ]
  },
  {
   "cell_type": "code",
   "execution_count": 20,
   "metadata": {},
   "outputs": [
    {
     "data": {
      "text/html": [
       "<div>\n",
       "<style scoped>\n",
       "    .dataframe tbody tr th:only-of-type {\n",
       "        vertical-align: middle;\n",
       "    }\n",
       "\n",
       "    .dataframe tbody tr th {\n",
       "        vertical-align: top;\n",
       "    }\n",
       "\n",
       "    .dataframe thead th {\n",
       "        text-align: right;\n",
       "    }\n",
       "</style>\n",
       "<table border=\"1\" class=\"dataframe\">\n",
       "  <thead>\n",
       "    <tr style=\"text-align: right;\">\n",
       "      <th></th>\n",
       "      <th>Median Score</th>\n",
       "    </tr>\n",
       "    <tr>\n",
       "      <th>Division</th>\n",
       "      <th></th>\n",
       "    </tr>\n",
       "  </thead>\n",
       "  <tbody>\n",
       "    <tr>\n",
       "      <th>DHGP</th>\n",
       "      <td>64.8880</td>\n",
       "    </tr>\n",
       "    <tr>\n",
       "      <th>DHPSG</th>\n",
       "      <td>67.3390</td>\n",
       "    </tr>\n",
       "    <tr>\n",
       "      <th>FEI5</th>\n",
       "      <td>7.5840</td>\n",
       "    </tr>\n",
       "    <tr>\n",
       "      <th>FEI6</th>\n",
       "      <td>7.5040</td>\n",
       "    </tr>\n",
       "    <tr>\n",
       "      <th>FEI7</th>\n",
       "      <td>71.3295</td>\n",
       "    </tr>\n",
       "    <tr>\n",
       "      <th>USEF4</th>\n",
       "      <td>7.6200</td>\n",
       "    </tr>\n",
       "  </tbody>\n",
       "</table>\n",
       "</div>"
      ],
      "text/plain": [
       "          Median Score\n",
       "Division              \n",
       "DHGP           64.8880\n",
       "DHPSG          67.3390\n",
       "FEI5            7.5840\n",
       "FEI6            7.5040\n",
       "FEI7           71.3295\n",
       "USEF4           7.6200"
      ]
     },
     "execution_count": 20,
     "metadata": {},
     "output_type": "execute_result"
    }
   ],
   "source": [
    "# get the median scores by division over all years (2002-2023)\n",
    "\n",
    "median_groups = championship_df.groupby(\"Division\")[\"OverallScore\"]\n",
    "\n",
    "# create a summary dataframe of median scores for all divisions over all years\n",
    "\n",
    "median_summary = pd.DataFrame({\"Median Score\": median_groups.median()}) \n",
    "\n",
    "median_summary\n"
   ]
  },
  {
   "cell_type": "code",
   "execution_count": 26,
   "metadata": {},
   "outputs": [
    {
     "name": "stdout",
     "output_type": "stream",
     "text": [
      "307 horses were bred in the USA.\n"
     ]
    }
   ],
   "source": [
    "# get the number of horses bred in the USA that competed in the years 2002-2023\n",
    "\n",
    "usa_count = horse_df[(horse_df[\"Country\"] == \"USA\")].count()[\"USDFNumber\"]\n",
    "\n",
    "print(f\"{usa_count} horses were bred in the USA.\")"
   ]
  },
  {
   "cell_type": "code",
   "execution_count": 29,
   "metadata": {},
   "outputs": [
    {
     "name": "stdout",
     "output_type": "stream",
     "text": [
      "The percentage of horses bred in the USA is 36.5%\n"
     ]
    }
   ],
   "source": [
    "# get the percentage of horses bred in the USA\n",
    "\n",
    "all_horses = len(horse_df)\n",
    "usa_percentage = (usa_count / all_horses) * 100\n",
    "usa_percentage = round(usa_percentage, 2)\n",
    "\n",
    "print(f\"The percentage of horses bred in the USA is {usa_percentage}%.\")"
   ]
  },
  {
   "cell_type": "code",
   "execution_count": 23,
   "metadata": {},
   "outputs": [
    {
     "data": {
      "text/plain": [
       "Sandro Hit          24\n",
       "Sir Donnerhall I    18\n",
       "Furstenball         17\n",
       "Jazz                13\n",
       "Rotspon             12\n",
       "Fidertanz           12\n",
       "Florestan I         12\n",
       "Hotline             10\n",
       "Sir Sinclair         9\n",
       "Florencio I          9\n",
       "Grand Galaxy Win     9\n",
       "Name: Sire, dtype: int64"
      ]
     },
     "execution_count": 23,
     "metadata": {},
     "output_type": "execute_result"
    }
   ],
   "source": [
    "# get the top ten sires represented over all years (2002-2023)\n",
    "# showing 11 horses, as there are three horses tied for the 9th place spot\n",
    "\n",
    "top_sires = horse_df['Sire'].value_counts().head(11)\n",
    "\n",
    "print(top_sires)\n"
   ]
  },
  {
   "cell_type": "code",
   "execution_count": 24,
   "metadata": {},
   "outputs": [
    {
     "data": {
      "text/plain": [
       "Sandro Hit          12\n",
       "Jazz                 8\n",
       "Sir Donnerhall I     7\n",
       "Florestan I          5\n",
       "Florencio I          5\n",
       "Fidertanz            4\n",
       "Quaterback           4\n",
       "Rotspon              4\n",
       "Belissimo M          4\n",
       "Furstenball          3\n",
       "Name: Sire, dtype: int64"
      ]
     },
     "execution_count": 24,
     "metadata": {},
     "output_type": "execute_result"
    }
   ],
   "source": [
    "# get the top ten sires of Grand Prix horses from 2002-2023\n",
    "\n",
    "gp_sires = horse_df.loc[(horse_df[\"HighestLevel\"] == \"Grand Prix\")]\n",
    "gp_sires = gp_sires['Sire'].value_counts().head(10)\n",
    "\n",
    "print(gp_sires)"
   ]
  },
  {
   "cell_type": "code",
   "execution_count": 372,
   "metadata": {},
   "outputs": [
    {
     "data": {
      "text/plain": [
       "Rubinstein          25\n",
       "De Niro             18\n",
       "Sandro Hit          17\n",
       "Jazz                16\n",
       "Rotspon             16\n",
       "Weltmeyer           14\n",
       "Ferro               13\n",
       "Krack C             11\n",
       "Sir Donnerhall I    11\n",
       "Rohdiamant          11\n",
       "Name: Damsire, dtype: int64"
      ]
     },
     "execution_count": 372,
     "metadata": {},
     "output_type": "execute_result"
    }
   ],
   "source": [
    "# get the top ten damsires represented over all years (2002 - 2023)\n",
    "\n",
    "top_damsires = horse_df['Damsire'].value_counts().head(10)\n",
    "\n",
    "print(top_damsires)"
   ]
  },
  {
   "cell_type": "code",
   "execution_count": 374,
   "metadata": {},
   "outputs": [
    {
     "data": {
      "text/plain": [
       "De Niro           7\n",
       "Rubinstein        6\n",
       "Rotspon           6\n",
       "Brentano II       5\n",
       "Ferro             5\n",
       "Weltmeyer         4\n",
       "Rohdiamant        4\n",
       "Jazz              4\n",
       "Flemmingh         3\n",
       "Wolkenstein II    3\n",
       "Name: Damsire, dtype: int64"
      ]
     },
     "execution_count": 374,
     "metadata": {},
     "output_type": "execute_result"
    }
   ],
   "source": [
    "# get the top ten damsires of Grand Prix horses from 2002-2023\n",
    "\n",
    "gp_damsires = horse_df.loc[(horse_df[\"HighestLevel\"] == \"Grand Prix\")]\n",
    "gp_damsires = gp_damsires['Damsire'].value_counts().head(10)\n",
    "\n",
    "print(gp_damsires)"
   ]
  },
  {
   "cell_type": "code",
   "execution_count": 364,
   "metadata": {},
   "outputs": [
    {
     "data": {
      "text/plain": [
       "DG Bar Ranch          16\n",
       "Maryanna Haymon       12\n",
       "Nancy Holowesko        9\n",
       "Leatherdale Farms      7\n",
       "Gestut Lewitz          6\n",
       "Oak Hill Ranch         6\n",
       "Judy Yancey            6\n",
       "Horses Unlimited       6\n",
       "Jackie Ahl-Eckhaus     5\n",
       "Maurine Swanson        5\n",
       "Name: Breeder, dtype: int64"
      ]
     },
     "execution_count": 364,
     "metadata": {},
     "output_type": "execute_result"
    }
   ],
   "source": [
    "# get the top ten most prominent breeders represented over all years (2002 - 2023)\n",
    "\n",
    "top_breeders = horse_df['Breeder'].value_counts().head(10)\n",
    "\n",
    "print(top_breeders)"
   ]
  },
  {
   "cell_type": "code",
   "execution_count": 366,
   "metadata": {},
   "outputs": [
    {
     "data": {
      "text/plain": [
       "USA              307\n",
       "Germany          299\n",
       "Netherlands      165\n",
       "Denmark           26\n",
       "Canada             7\n",
       "Belgium            7\n",
       "Spain              5\n",
       "Great Britain      5\n",
       "Norway             4\n",
       "Sweden             2\n",
       "Name: Country, dtype: int64"
      ]
     },
     "execution_count": 366,
     "metadata": {},
     "output_type": "execute_result"
    }
   ],
   "source": [
    "# get the top ten countries that horses were bred in over all years (2002 - 2023)\n",
    "\n",
    "top_countries = horse_df['Country'].value_counts().head(10)\n",
    "\n",
    "print(top_countries)"
   ]
  },
  {
   "cell_type": "code",
   "execution_count": 40,
   "metadata": {},
   "outputs": [
    {
     "name": "stdout",
     "output_type": "stream",
     "text": [
      "KWPN                  243\n",
      "Hanoverian            241\n",
      "Oldenburg             180\n",
      "Westfalen              48\n",
      "Danish Warmblood       34\n",
      "Rhinelander            18\n",
      "American Warmblood     10\n",
      "PRE                     7\n",
      "Holsteiner              7\n",
      "Swedish Warmblood       6\n",
      "Name: Studbook, dtype: int64\n"
     ]
    }
   ],
   "source": [
    "# get the top ten studbooks represented over all years (2002 - 2023)\n",
    "\n",
    "top_studbooks = horse_df['Studbook'].value_counts().head(10)\n",
    "\n",
    "print(top_studbooks)"
   ]
  },
  {
   "cell_type": "code",
   "execution_count": 368,
   "metadata": {},
   "outputs": [
    {
     "data": {
      "text/plain": [
       "WakeUp                  6\n",
       "Quantum Jazz            5\n",
       "Flavius MF              5\n",
       "Sole Mio                5\n",
       "Sternlicht Hilltop      5\n",
       "Floretienne             5\n",
       "Pikko del Cerro HU      5\n",
       "Fashion Designer OLD    5\n",
       "Don Cesar               5\n",
       "Au Revoir               5\n",
       "Name: Horse, dtype: int64"
      ]
     },
     "execution_count": 368,
     "metadata": {},
     "output_type": "execute_result"
    }
   ],
   "source": [
    "# get the top horses with the most championship appearances over all years (2002 - 2023)\n",
    "\n",
    "most_appearances = championship_df['Horse'].value_counts().head(10)\n",
    "\n",
    "print(most_appearances)"
   ]
  }
 ],
 "metadata": {
  "kernelspec": {
   "display_name": "Python 3 (ipykernel)",
   "language": "python",
   "name": "python3"
  },
  "language_info": {
   "codemirror_mode": {
    "name": "ipython",
    "version": 3
   },
   "file_extension": ".py",
   "mimetype": "text/x-python",
   "name": "python",
   "nbconvert_exporter": "python",
   "pygments_lexer": "ipython3",
   "version": "3.10.11"
  }
 },
 "nbformat": 4,
 "nbformat_minor": 2
}
